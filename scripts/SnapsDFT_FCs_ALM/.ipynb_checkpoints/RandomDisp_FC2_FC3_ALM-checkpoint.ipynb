{
 "cells": [
  {
   "cell_type": "code",
   "execution_count": 1,
   "metadata": {},
   "outputs": [],
   "source": [
    "import matplotlib\n",
    "import matplotlib.pyplot as plt\n",
    "from matplotlib import rc\n",
    "import numpy as np\n",
    "from phonopy import Phonopy\n",
    "import phonopy.interface.vasp as Intf_vasp\n",
    "from phonopy.structure.atoms import PhonopyAtoms\n",
    "import phonopy.file_IO as PhonIO\n",
    "from phonopy.interface.calculator import get_default_physical_units\n",
    "from phonopy.interface.alm import get_fc2\n",
    "import os\n",
    "import shutil\n",
    "import API_quippy_phonopy_VASP as api_qpv\n",
    "import API_alamode as api_alm\n",
    "import sys\n",
    "import API_quippy_thirdorder as shengfc3\n",
    "import thirdorder_core\n",
    "import thirdorder_common"
   ]
  },
  {
   "cell_type": "code",
   "execution_count": 2,
   "metadata": {},
   "outputs": [],
   "source": [
    "Qpoints=np.array([[1e-4,1e-4,1.0],[0.5,0.5,1.0],[3./8,3./8,3./4],[0.0,0.0,0.0],[0.5,0.5,0.5]])\n",
    "band_labels=['$\\Gamma$','X','K','$\\Gamma$','L']\n",
    "#Qpoints = np.array([[0.5,0.0,0.0],[0,0,0],[2./3,1./3,0.0]])\n",
    "#band_labels = ['M','$\\Gamma$','K']\n",
    "Ncells=[4,4,4] # Need to be consistent with the size one used to generate random displacements in DFSET\n",
    "qmesh=[40,40,40]\n",
    "Band_points=100\n",
    "NAC = True\n",
    "interface_mode = 'vasp'\n",
    "nneigh = 4 #neighbor cutoff for 3rd order force constants."
   ]
  },
  {
   "cell_type": "code",
   "execution_count": 3,
   "metadata": {},
   "outputs": [],
   "source": [
    "Unit_cell = Intf_vasp.read_vasp(\"POSCAR\") # read prim cell from the POSCAR file\n",
    "prim_mat = np.eye(3)#[[0, 0.5, 0.5],[0.5, 0, 0.5],[0.5, 0.5, 0]]\n",
    "phonon = Phonopy(Unit_cell,np.diag(Ncells),primitive_matrix=prim_mat) # generate an phononpy object for LD calc."
   ]
  },
  {
   "cell_type": "code",
   "execution_count": 4,
   "metadata": {},
   "outputs": [],
   "source": [
    "if os.path.exists('DFSET'):\n",
    "    DFSET = np.loadtxt('DFSET')\n",
    "    displacements=DFSET[:,0:3]\n",
    "    forces=DFSET[:,3:6]\n",
    "    Natoms = phonon.get_supercell().get_number_of_atoms()\n",
    "    Nat_scells,DIM = forces.shape\n",
    "    Nsnaps = int(Nat_scells/Natoms)\n",
    "    forces=forces.reshape([Nsnaps,Natoms,3])\n",
    "    displacements=displacements.reshape([Nsnaps,Natoms,3])\n",
    "\n",
    "else:\n",
    "    print(\"Cannot find DFSET!\")"
   ]
  },
  {
   "cell_type": "code",
   "execution_count": 5,
   "metadata": {},
   "outputs": [],
   "source": [
    "# Get frange for third order force constants:\n",
    "poscar = shengfc3.read_POSCAR(\".\")\n",
    "sposcar = shengfc3.gen_SPOSCAR(poscar, Ncells[0], Ncells[1], Ncells[2])\n",
    "dmin, nequi, shifts = shengfc3.calc_dists(sposcar)\n",
    "frange = shengfc3.calc_frange(poscar, sposcar, nneigh, dmin)*10 # get cutoff from "
   ]
  },
  {
   "cell_type": "code",
   "execution_count": 6,
   "metadata": {},
   "outputs": [
    {
     "name": "stdout",
     "output_type": "stream",
     "text": [
      "--------------------------------- ALM start --------------------------------\n",
      "ALM is a non-trivial force constants calculator. Please cite the paper:\n",
      "T. Tadano and S. Tsuneyuki, J. Phys. Soc. Jpn. 87, 041015 (2018).\n",
      "ALM is developed at https://github.com/ttadano/ALM by T. Tadano.\n",
      "Increase log-level to watch detailed ALM log.\n",
      "fc2\n",
      "cutoff     Na     Cl\n",
      "   Na   -1.00  -1.00\n",
      "   Cl   -1.00  -1.00\n",
      "fc3\n",
      "cutoff     Na     Cl\n",
      "   Na    5.99   5.99\n",
      "   Cl    5.99   5.99\n",
      "---------------------------------- ALM end ---------------------------------\n"
     ]
    }
   ],
   "source": [
    "options ='solver = dense, cutoff = '+str(frange)\n",
    "FC2,FC3 = api_alm.get_fc2_fc3(phonon,displacements,forces,is_compact_fc=False,options=options,log_level=1)\n",
    "api_qpv.write_ShengBTE_FC2(FC2, filename='FORCE_CONSTANTS_2ND')\n",
    "#thirdorder_common.write_ifcs(FC3, poscar, sposcar, dmin, nequi, shifts, frange,\"FORCE_CONSTANTS_3RD\")"
   ]
  },
  {
   "cell_type": "code",
   "execution_count": 40,
   "metadata": {},
   "outputs": [],
   "source": [
    "from collections import namedtuple\n",
    "from itertools import product\n",
    "\n",
    "def write_shengBTE_fc3(filename, fc3 ,phonon, prim, symprec=1e-5, cutoff=np.inf,\n",
    "                       fc_tol=1e-8):\n",
    "    \"\"\"Writes third-order force constants file in shengBTE format.\n",
    "\n",
    "    Parameters\n",
    "    -----------\n",
    "    filename : str\n",
    "        input file name\n",
    "    phonon : Phonopy object\n",
    "    prim : ase.Atoms\n",
    "        primitive configuration (must be equivalent to structure used in the\n",
    "        shengBTE calculation)\n",
    "    symprec : float\n",
    "        structural symmetry tolerance\n",
    "    cutoff : float\n",
    "        all atoms in cluster must be within this cutoff\n",
    "    fc_tol : float\n",
    "        if the absolute value of the largest entry in a force constant is less\n",
    "        than fc_tol it will not be written\n",
    "    \"\"\"\n",
    "\n",
    "    sheng = _fcs_to_sheng(fc3, phonon, prim, symprec, cutoff, fc_tol)\n",
    "\n",
    "    raw_sheng = _fancy_to_raw(sheng)\n",
    "\n",
    "    _write_raw_sheng(raw_sheng, filename)\n",
    "\n",
    "\n",
    "\n",
    "_ShengEntry = namedtuple('Entry', ['site_0', 'site_1', 'site_2', 'pos_1',\n",
    "                                   'pos_2', 'fc', 'offset_1', 'offset_2'])\n",
    "\n",
    "\n",
    "def _fancy_to_raw(sheng):\n",
    "    \"\"\"\n",
    "    Converts force constants namedtuple format defined above (_ShengEntry) to\n",
    "    format used for writing shengBTE files.\n",
    "    \"\"\"\n",
    "    raw_sheng = []\n",
    "    for entry in sheng:\n",
    "        raw_entry = list(entry[:6])\n",
    "        raw_entry[0] += 1\n",
    "        raw_entry[1] += 1\n",
    "        raw_entry[2] += 1\n",
    "        raw_sheng.append(raw_entry)\n",
    "\n",
    "    return raw_sheng\n",
    "\n",
    "\n",
    "def _write_raw_sheng(raw_sheng, filename):\n",
    "    \"\"\" See corresponding read function. \"\"\"\n",
    "\n",
    "    with open(filename, 'w') as f:\n",
    "        f.write('{}\\n\\n'.format(len(raw_sheng)))\n",
    "\n",
    "        for index, fc3_row in enumerate(raw_sheng, start=1):\n",
    "            i, j, k, cell_pos2, cell_pos3, fc3_ijk = fc3_row\n",
    "\n",
    "            f.write('{:5d}\\n'.format(index))\n",
    "\n",
    "            f.write((3*'{:14.10f} '+'\\n').format(*cell_pos2))\n",
    "            f.write((3*'{:14.10f} '+'\\n').format(*cell_pos3))\n",
    "            f.write((3*'{:5d}'+'\\n').format(i, j, k))\n",
    "\n",
    "            for x, y, z in product(range(3), repeat=3):\n",
    "                f.write((3*' {:}').format(x+1, y+1, z+1))\n",
    "                f.write('    {:14.10f}\\n'.format(fc3_ijk[x, y, z]))\n",
    "            f.write('\\n')\n",
    "\n",
    "\n",
    "def _fcs_to_sheng(fc3, phonon, prim,symprec, cutoff, fc_tol):\n",
    "    \"\"\" phonon\n",
    "    \"\"\"\n",
    "    cell = prim.cell\n",
    "    #print(cell)\n",
    "    ScellMat = phonon.get_supercell_matrix()\n",
    "    supercell_ph = phonon.get_supercell()\n",
    "    from API_quippy_phonopy_VASP import phonopyAtoms_to_aseAtoms\n",
    "    supercell = phonopyAtoms_to_aseAtoms(supercell_ph)\n",
    "\n",
    "    n_atoms = len(supercell)\n",
    "\n",
    "    D = supercell.get_all_distances(mic=False, vector=True)\n",
    "    D_mic = supercell.get_all_distances(mic=True, vector=True)\n",
    "    M = np.eye(n_atoms, dtype=bool)\n",
    "    for i in range(n_atoms):\n",
    "        for j in range(i + 1, n_atoms):\n",
    "            M[i, j] = (np.allclose(D[i, j], D_mic[i, j], atol=symprec, rtol=0)\n",
    "                       and np.linalg.norm(D[i, j]) < cutoff)\n",
    "            M[j, i] = M[i, j]\n",
    "\n",
    "    data = {}\n",
    "    for a0 in supercell:\n",
    "        offset_a0 = np.linalg.solve(cell.T, a0.position).round(0).astype(int)\n",
    "        for a1 in supercell:\n",
    "            if not M[a0.index, a1.index]:\n",
    "                continue\n",
    "            for a2 in supercell:\n",
    "                if not (M[a0.index, a2.index] and M[a1.index, a2.index]):\n",
    "                    continue\n",
    "                #p1 = a1.position\n",
    "                offset_a1 = np.linalg.solve(cell.T, a1.position).round(0).astype(int)\n",
    "                offset_a2 = np.linalg.solve(cell.T, a2.position).round(0).astype(int)\n",
    "\n",
    "                offset_1 = np.subtract(offset_a1, offset_a0)\n",
    "                offset_2 = np.subtract(offset_a2, offset_a0)\n",
    "                for dim in range(3):\n",
    "                    if offset_1[dim]<0:\n",
    "                        offset_1[dim] = offset_1[dim]+ScellMat[dim,dim]\n",
    "                    if offset_2[dim]<0:\n",
    "                        offset_2[dim] = offset_2[dim]+ScellMat[dim,dim]     \n",
    "                #print(offset_a0)\n",
    "                #print(offset_1)\n",
    "                #print(offset_2)\n",
    "\n",
    "                sites = (a0.tag, a1.tag, a2.tag)\n",
    "\n",
    "                key = sites + tuple(offset_1) + tuple(offset_2)\n",
    "                #print(key)\n",
    "                \n",
    "                i = a0.index\n",
    "                j = a1.index\n",
    "                k = a2.index\n",
    "\n",
    "                #ijk = (a0.index, a1.index, a2.index)\n",
    "\n",
    "                fc = fc3[i,j,k,:,:,:]\n",
    "\n",
    "                #if key in data:\n",
    "                #    assert np.allclose(data[key], fc, atol=fc_tol)\n",
    "                #else:\n",
    "                data[key] = fc\n",
    "\n",
    "    sheng = []\n",
    "    for k, fc in data.items():\n",
    "        if np.max(np.abs(fc)) < fc_tol:\n",
    "            continue\n",
    "        offset_1 = k[3:6]\n",
    "        pos_1 = np.dot(offset_1, prim.cell)\n",
    "        offset_2 = k[6:9]\n",
    "        pos_2 = np.dot(offset_2, prim.cell)\n",
    "        entry = _ShengEntry(*k[:3], pos_1, pos_2, fc, offset_1, offset_2)\n",
    "        sheng.append(entry)\n",
    "\n",
    "    return sheng"
   ]
  },
  {
   "cell_type": "code",
   "execution_count": null,
   "metadata": {},
   "outputs": [
    {
     "name": "stdout",
     "output_type": "stream",
     "text": [
      "Cell([[3.9980874304335936, -3.809e-13, -2.693e-13], [1.9990437152661373, 3.4624452813346007, 9.86e-14], [1.9990437152661373, 1.154148427078513, 3.2644247172021954]])\n"
     ]
    }
   ],
   "source": [
    "prim = api_qpv.phonopyAtoms_to_aseAtoms(phonon.get_primitive())\n",
    "write_shengBTE_fc3('FORCE_CONSTANTS_3RD',FC3,phonon,prim)"
   ]
  },
  {
   "cell_type": "code",
   "execution_count": 19,
   "metadata": {},
   "outputs": [
    {
     "data": {
      "text/plain": [
       "array([[0. , 0. , 0. ],\n",
       "       [0.5, 0.5, 0.5]])"
      ]
     },
     "execution_count": 19,
     "metadata": {},
     "output_type": "execute_result"
    }
   ],
   "source": [
    "prim.get_scaled_positions()"
   ]
  },
  {
   "cell_type": "code",
   "execution_count": 21,
   "metadata": {},
   "outputs": [],
   "source": [
    "scell = phonon.get_supercell()\n",
    "supercell = api_qpv.phonopyAtoms_to_aseAtoms(scell)"
   ]
  },
  {
   "cell_type": "code",
   "execution_count": 26,
   "metadata": {},
   "outputs": [
    {
     "data": {
      "text/plain": [
       "array([[4, 0, 0],\n",
       "       [0, 4, 0],\n",
       "       [0, 0, 4]])"
      ]
     },
     "execution_count": 26,
     "metadata": {},
     "output_type": "execute_result"
    }
   ],
   "source": [
    "phonon.get_supercell_matrix()"
   ]
  },
  {
   "cell_type": "code",
   "execution_count": 25,
   "metadata": {},
   "outputs": [
    {
     "data": {
      "text/plain": [
       "Cell([[15.992349721734374, -1.5236e-12, -1.0772e-12], [7.996174861064549, 13.849781125338403, 3.944e-13], [7.996174861064549, 4.616593708314052, 13.057698868808782]])"
      ]
     },
     "execution_count": 25,
     "metadata": {},
     "output_type": "execute_result"
    }
   ],
   "source": [
    "supercell.get_cell()"
   ]
  },
  {
   "cell_type": "code",
   "execution_count": null,
   "metadata": {},
   "outputs": [],
   "source": []
  }
 ],
 "metadata": {
  "kernelspec": {
   "display_name": "Python 3",
   "language": "python",
   "name": "python3"
  },
  "language_info": {
   "codemirror_mode": {
    "name": "ipython",
    "version": 3
   },
   "file_extension": ".py",
   "mimetype": "text/x-python",
   "name": "python",
   "nbconvert_exporter": "python",
   "pygments_lexer": "ipython3",
   "version": "3.8.2"
  }
 },
 "nbformat": 4,
 "nbformat_minor": 4
}
