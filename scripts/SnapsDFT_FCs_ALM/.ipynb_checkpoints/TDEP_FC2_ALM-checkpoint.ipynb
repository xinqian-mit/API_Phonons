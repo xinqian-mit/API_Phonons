{
 "cells": [
  {
   "cell_type": "code",
   "execution_count": 17,
   "metadata": {},
   "outputs": [],
   "source": [
    "import matplotlib\n",
    "import matplotlib.pyplot as plt\n",
    "from matplotlib import rc\n",
    "import numpy as np\n",
    "from phonopy import Phonopy\n",
    "import phonopy.interface.vasp as Intf_vasp\n",
    "from phonopy.structure.atoms import PhonopyAtoms\n",
    "import phonopy.file_IO as PhonIO\n",
    "from phonopy.interface.calculator import get_default_physical_units\n",
    "import os\n",
    "import shutil"
   ]
  },
  {
   "cell_type": "code",
   "execution_count": 3,
   "metadata": {},
   "outputs": [],
   "source": [
    "Qpoints=np.array([[1e-4,1e-4,1.0],[0.5,0.5,1.0],[3./8,3./8,3./4],[0.0,0.0,0.0],[0.5,0.5,0.5]])\n",
    "band_labels=['$\\Gamma$','X','K','$\\Gamma$','L']\n",
    "#Qpoints = np.array([[0.5,0.0,0.0],[0,0,0],[2./3,1./3,0.0]])\n",
    "#band_labels = ['M','$\\Gamma$','K']\n",
    "Ncells=[4,4,4]\n",
    "qmesh=[40,40,40]\n",
    "Band_points=100\n",
    "NAC = True\n",
    "interface_mode = 'vasp'"
   ]
  },
  {
   "cell_type": "code",
   "execution_count": 4,
   "metadata": {},
   "outputs": [],
   "source": [
    "Unit_cell = Intf_vasp.read_vasp(\"POSCAR\") # read prim cell from the POSCAR file\n",
    "prim_mat = np.eye(3)#[[0, 0.5, 0.5],[0.5, 0, 0.5],[0.5, 0.5, 0]]\n",
    "phonon = Phonopy(Unit_cell,np.diag(Ncells),primitive_matrix=prim_mat) # generate an phononpy object for LD calc.\n"
   ]
  },
  {
   "cell_type": "code",
   "execution_count": 42,
   "metadata": {},
   "outputs": [],
   "source": [
    "# input random displacements\n",
    "if os.path.exists('DFSET'):\n",
    "    DFSET = np.loadtxt('DFSET')\n",
    "else:\n",
    "    print(\"Cannot find DFSET\")\n",
    "\n"
   ]
  },
  {
   "cell_type": "code",
   "execution_count": 41,
   "metadata": {},
   "outputs": [
    {
     "data": {
      "text/plain": [
       "array([[-2.91126317e-01, -9.60689720e-02, -7.49996190e-02,\n",
       "         1.67227340e-02, -1.18657400e-03,  8.10312900e-03],\n",
       "       [ 3.95914861e-01,  4.07905368e-01, -1.18004034e-01,\n",
       "        -1.69520300e-02, -1.48887920e-02,  4.99765100e-03],\n",
       "       [ 3.34335170e-02,  4.25268240e-01,  8.24185470e-02,\n",
       "         2.05462300e-03, -1.28548080e-02, -1.19179850e-02],\n",
       "       ...,\n",
       "       [-9.58456500e-02,  1.27277336e-01, -3.74271157e-01,\n",
       "        -5.11718000e-04, -5.84349700e-03,  1.16424340e-02],\n",
       "       [-2.43157782e-01,  1.52812245e-01,  1.28770683e-01,\n",
       "         1.47518300e-02, -2.06831500e-03, -9.95491100e-03],\n",
       "       [ 5.13649847e-01,  5.60733490e-02,  8.82846470e-02,\n",
       "        -2.19454460e-02, -1.97515650e-02, -1.47612920e-02]])"
      ]
     },
     "execution_count": 41,
     "metadata": {},
     "output_type": "execute_result"
    }
   ],
   "source": []
  },
  {
   "cell_type": "code",
   "execution_count": 35,
   "metadata": {
    "scrolled": false
   },
   "outputs": [
    {
     "name": "stdout",
     "output_type": "stream",
     "text": [
      "--------------------------------- ALM start --------------------------------\n",
      "ALM is a non-trivial force constants calculator. Please cite the paper:\n",
      "T. Tadano and S. Tsuneyuki, J. Phys. Soc. Jpn. 87, 041015 (2018).\n",
      "ALM is developed at https://github.com/ttadano/ALM by T. Tadano.\n",
      "Increase log-level to watch detailed ALM log.\n"
     ]
    },
    {
     "ename": "RuntimeError",
     "evalue": "Displacement array has to be three dimensions.",
     "output_type": "error",
     "traceback": [
      "\u001b[0;31m---------------------------------------------------------------------------\u001b[0m",
      "\u001b[0;31mRuntimeError\u001b[0m                              Traceback (most recent call last)",
      "\u001b[0;32m<ipython-input-35-cb4e57953efd>\u001b[0m in \u001b[0;36m<module>\u001b[0;34m\u001b[0m\n\u001b[0;32m----> 1\u001b[0;31m \u001b[0mget_fc2\u001b[0m\u001b[0;34m(\u001b[0m\u001b[0mphonon\u001b[0m\u001b[0;34m.\u001b[0m\u001b[0mget_supercell\u001b[0m\u001b[0;34m(\u001b[0m\u001b[0;34m)\u001b[0m\u001b[0;34m,\u001b[0m\u001b[0mphonon\u001b[0m\u001b[0;34m.\u001b[0m\u001b[0mget_primitive\u001b[0m\u001b[0;34m(\u001b[0m\u001b[0;34m)\u001b[0m\u001b[0;34m,\u001b[0m\u001b[0mforce_set\u001b[0m\u001b[0;34m[\u001b[0m\u001b[0;34m'displacements'\u001b[0m\u001b[0;34m]\u001b[0m\u001b[0;34m,\u001b[0m\u001b[0mforce_set\u001b[0m\u001b[0;34m[\u001b[0m\u001b[0;34m'forces'\u001b[0m\u001b[0;34m]\u001b[0m\u001b[0;34m,\u001b[0m\u001b[0mlog_level\u001b[0m\u001b[0;34m=\u001b[0m\u001b[0;36m1\u001b[0m\u001b[0;34m)\u001b[0m\u001b[0;34m\u001b[0m\u001b[0;34m\u001b[0m\u001b[0m\n\u001b[0m",
      "\u001b[0;32m~/.local/lib/python3.8/site-packages/phonopy/interface/alm.py\u001b[0m in \u001b[0;36mget_fc2\u001b[0;34m(supercell, primitive, displacements, forces, atom_list, options, log_level)\u001b[0m\n\u001b[1;32m     47\u001b[0m     is_compact_fc = (atom_list is not None and\n\u001b[1;32m     48\u001b[0m                      (atom_list == p2s_map).all())\n\u001b[0;32m---> 49\u001b[0;31m     fc2 = run_alm(supercell,\n\u001b[0m\u001b[1;32m     50\u001b[0m                   \u001b[0mprimitive\u001b[0m\u001b[0;34m,\u001b[0m\u001b[0;34m\u001b[0m\u001b[0;34m\u001b[0m\u001b[0m\n\u001b[1;32m     51\u001b[0m                   \u001b[0mdisplacements\u001b[0m\u001b[0;34m,\u001b[0m\u001b[0;34m\u001b[0m\u001b[0;34m\u001b[0m\u001b[0m\n",
      "\u001b[0;32m~/.local/lib/python3.8/site-packages/phonopy/interface/alm.py\u001b[0m in \u001b[0;36mrun_alm\u001b[0;34m(supercell, primitive, displacements, forces, maxorder, is_compact_fc, options, log_level)\u001b[0m\n\u001b[1;32m    145\u001b[0m             \u001b[0mcutoff_radii\u001b[0m\u001b[0;34m=\u001b[0m\u001b[0mcutoff_radii\u001b[0m\u001b[0;34m,\u001b[0m\u001b[0;34m\u001b[0m\u001b[0;34m\u001b[0m\u001b[0m\n\u001b[1;32m    146\u001b[0m             symmetrization_basis=alm_options['symmetrization_basis'])\n\u001b[0;32m--> 147\u001b[0;31m         \u001b[0malm\u001b[0m\u001b[0;34m.\u001b[0m\u001b[0mdisplacements\u001b[0m \u001b[0;34m=\u001b[0m \u001b[0m_disps\u001b[0m\u001b[0;34m\u001b[0m\u001b[0;34m\u001b[0m\u001b[0m\n\u001b[0m\u001b[1;32m    148\u001b[0m         \u001b[0malm\u001b[0m\u001b[0;34m.\u001b[0m\u001b[0mforces\u001b[0m \u001b[0;34m=\u001b[0m \u001b[0m_forces\u001b[0m\u001b[0;34m\u001b[0m\u001b[0;34m\u001b[0m\u001b[0m\n\u001b[1;32m    149\u001b[0m \u001b[0;34m\u001b[0m\u001b[0m\n",
      "\u001b[0;32m~/Softwares/ALM/python/alm/alm.py\u001b[0m in \u001b[0;36mdisplacements\u001b[0;34m(self, u)\u001b[0m\n\u001b[1;32m    425\u001b[0m         \u001b[0;32mif\u001b[0m \u001b[0mu\u001b[0m\u001b[0;34m.\u001b[0m\u001b[0mndim\u001b[0m \u001b[0;34m!=\u001b[0m \u001b[0;36m3\u001b[0m\u001b[0;34m:\u001b[0m\u001b[0;34m\u001b[0m\u001b[0;34m\u001b[0m\u001b[0m\n\u001b[1;32m    426\u001b[0m             \u001b[0mmsg\u001b[0m \u001b[0;34m=\u001b[0m \u001b[0;34m\"Displacement array has to be three dimensions.\"\u001b[0m\u001b[0;34m\u001b[0m\u001b[0;34m\u001b[0m\u001b[0m\n\u001b[0;32m--> 427\u001b[0;31m             \u001b[0;32mraise\u001b[0m \u001b[0mRuntimeError\u001b[0m\u001b[0;34m(\u001b[0m\u001b[0mmsg\u001b[0m\u001b[0;34m)\u001b[0m\u001b[0;34m\u001b[0m\u001b[0;34m\u001b[0m\u001b[0m\n\u001b[0m\u001b[1;32m    428\u001b[0m \u001b[0;34m\u001b[0m\u001b[0m\n\u001b[1;32m    429\u001b[0m         \u001b[0malm\u001b[0m\u001b[0;34m.\u001b[0m\u001b[0mset_u_train\u001b[0m\u001b[0;34m(\u001b[0m\u001b[0mself\u001b[0m\u001b[0;34m.\u001b[0m\u001b[0m_id\u001b[0m\u001b[0;34m,\u001b[0m \u001b[0mnp\u001b[0m\u001b[0;34m.\u001b[0m\u001b[0marray\u001b[0m\u001b[0;34m(\u001b[0m\u001b[0mu\u001b[0m\u001b[0;34m,\u001b[0m \u001b[0mdtype\u001b[0m\u001b[0;34m=\u001b[0m\u001b[0;34m'double'\u001b[0m\u001b[0;34m,\u001b[0m \u001b[0morder\u001b[0m\u001b[0;34m=\u001b[0m\u001b[0;34m'C'\u001b[0m\u001b[0;34m)\u001b[0m\u001b[0;34m)\u001b[0m\u001b[0;34m\u001b[0m\u001b[0;34m\u001b[0m\u001b[0m\n",
      "\u001b[0;31mRuntimeError\u001b[0m: Displacement array has to be three dimensions."
     ]
    }
   ],
   "source": [
    "get_fc2(phonon.get_supercell(),phonon.get_primitive(),force_set['displacements'],force_set['forces'],log_level=1)"
   ]
  },
  {
   "cell_type": "code",
   "execution_count": 33,
   "metadata": {},
   "outputs": [],
   "source": [
    "supercell=phonon.get_supercell()"
   ]
  },
  {
   "cell_type": "code",
   "execution_count": 34,
   "metadata": {},
   "outputs": [
    {
     "data": {
      "text/plain": [
       "array([11, 11, 11, 11, 11, 11, 11, 11, 11, 11, 11, 11, 11, 11, 11, 11, 11,\n",
       "       11, 11, 11, 11, 11, 11, 11, 11, 11, 11, 11, 11, 11, 11, 11, 11, 11,\n",
       "       11, 11, 11, 11, 11, 11, 11, 11, 11, 11, 11, 11, 11, 11, 11, 11, 11,\n",
       "       11, 11, 11, 11, 11, 11, 11, 11, 11, 11, 11, 11, 11, 17, 17, 17, 17,\n",
       "       17, 17, 17, 17, 17, 17, 17, 17, 17, 17, 17, 17, 17, 17, 17, 17, 17,\n",
       "       17, 17, 17, 17, 17, 17, 17, 17, 17, 17, 17, 17, 17, 17, 17, 17, 17,\n",
       "       17, 17, 17, 17, 17, 17, 17, 17, 17, 17, 17, 17, 17, 17, 17, 17, 17,\n",
       "       17, 17, 17, 17, 17, 17, 17, 17, 17], dtype=int32)"
      ]
     },
     "execution_count": 34,
     "metadata": {},
     "output_type": "execute_result"
    }
   ],
   "source": [
    "supercell.numbers"
   ]
  },
  {
   "cell_type": "code",
   "execution_count": null,
   "metadata": {},
   "outputs": [],
   "source": []
  }
 ],
 "metadata": {
  "kernelspec": {
   "display_name": "Python 3",
   "language": "python",
   "name": "python3"
  },
  "language_info": {
   "codemirror_mode": {
    "name": "ipython",
    "version": 3
   },
   "file_extension": ".py",
   "mimetype": "text/x-python",
   "name": "python",
   "nbconvert_exporter": "python",
   "pygments_lexer": "ipython3",
   "version": "3.8.2"
  }
 },
 "nbformat": 4,
 "nbformat_minor": 4
}
