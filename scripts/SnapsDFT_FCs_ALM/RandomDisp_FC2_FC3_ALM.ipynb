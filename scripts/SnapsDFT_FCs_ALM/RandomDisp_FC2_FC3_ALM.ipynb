{
 "cells": [
  {
   "cell_type": "code",
   "execution_count": 1,
   "metadata": {},
   "outputs": [],
   "source": [
    "import matplotlib\n",
    "import matplotlib.pyplot as plt\n",
    "from matplotlib import rc\n",
    "import numpy as np\n",
    "from phonopy import Phonopy\n",
    "import phonopy.interface.vasp as Intf_vasp\n",
    "from phonopy.structure.atoms import PhonopyAtoms\n",
    "import phonopy.file_IO as PhonIO\n",
    "from phonopy.interface.calculator import get_default_physical_units\n",
    "from phonopy.interface.alm import get_fc2\n",
    "import os\n",
    "import shutil\n",
    "import API_quippy_phonopy_VASP as api_qpv\n",
    "import API_alamode as api_alm\n",
    "import sys\n",
    "import API_quippy_thirdorder as shengfc3\n",
    "import thirdorder_core\n",
    "import thirdorder_common"
   ]
  },
  {
   "cell_type": "code",
   "execution_count": 2,
   "metadata": {},
   "outputs": [],
   "source": [
    "Qpoints=np.array([[1e-4,1e-4,1.0],[0.5,0.5,1.0],[3./8,3./8,3./4],[0.0,0.0,0.0],[0.5,0.5,0.5]])\n",
    "band_labels=['$\\Gamma$','X','K','$\\Gamma$','L']\n",
    "#Qpoints = np.array([[0.5,0.0,0.0],[0,0,0],[2./3,1./3,0.0]])\n",
    "#band_labels = ['M','$\\Gamma$','K']\n",
    "Ncells=[4,4,4] # Need to be consistent with the size one used to generate random displacements in DFSET\n",
    "Band_points=100\n",
    "NAC = True\n",
    "interface_mode = 'vasp'\n",
    "nneigh = 4 #neighbor cutoff for 3rd order force constants."
   ]
  },
  {
   "cell_type": "code",
   "execution_count": 3,
   "metadata": {},
   "outputs": [],
   "source": [
    "Unit_cell = Intf_vasp.read_vasp(\"POSCAR\") # read prim cell from the POSCAR file\n",
    "prim_mat = np.eye(3)#[[0, 0.5, 0.5],[0.5, 0, 0.5],[0.5, 0.5, 0]]\n",
    "phonon = Phonopy(Unit_cell,np.diag(Ncells),primitive_matrix=prim_mat) # generate an phononpy object for LD calc."
   ]
  },
  {
   "cell_type": "code",
   "execution_count": 4,
   "metadata": {},
   "outputs": [],
   "source": [
    "if os.path.exists('DFSET'):\n",
    "    DFSET = np.loadtxt('DFSET')\n",
    "    displacements=DFSET[:,0:3]\n",
    "    forces=DFSET[:,3:6]\n",
    "    Natoms = phonon.get_supercell().get_number_of_atoms()\n",
    "    Nat_scells,DIM = forces.shape\n",
    "    Nsnaps = int(Nat_scells/Natoms)\n",
    "    forces=forces.reshape([Nsnaps,Natoms,3])\n",
    "    displacements=displacements.reshape([Nsnaps,Natoms,3])\n",
    "\n",
    "else:\n",
    "    print(\"Cannot find DFSET!\")"
   ]
  },
  {
   "cell_type": "code",
   "execution_count": 5,
   "metadata": {},
   "outputs": [],
   "source": [
    "# Get frange for third order force constants:\n",
    "poscar = shengfc3.read_POSCAR(\".\")\n",
    "sposcar = shengfc3.gen_SPOSCAR(poscar, Ncells[0], Ncells[1], Ncells[2])\n",
    "dmin, nequi, shifts = shengfc3.calc_dists(sposcar)\n",
    "frange = shengfc3.calc_frange(poscar, sposcar, nneigh, dmin)*10 # get cutoff from "
   ]
  },
  {
   "cell_type": "code",
   "execution_count": 6,
   "metadata": {},
   "outputs": [
    {
     "name": "stdout",
     "output_type": "stream",
     "text": [
      "--------------------------------- ALM start --------------------------------\n",
      "ALM is a non-trivial force constants calculator. Please cite the paper:\n",
      "T. Tadano and S. Tsuneyuki, J. Phys. Soc. Jpn. 87, 041015 (2018).\n",
      "ALM is developed at https://github.com/ttadano/ALM by T. Tadano.\n",
      "Increase log-level to watch detailed ALM log.\n",
      "fc2\n",
      "cutoff     Na     Cl\n",
      "   Na   -1.00  -1.00\n",
      "   Cl   -1.00  -1.00\n",
      "fc3\n",
      "cutoff     Na     Cl\n",
      "   Na    5.99   5.99\n",
      "   Cl    5.99   5.99\n",
      "---------------------------------- ALM end ---------------------------------\n"
     ]
    }
   ],
   "source": [
    "options ='solver = dense, cutoff = '+str(frange)\n",
    "FC2,FC3 = api_alm.get_fc2_fc3(phonon,displacements,forces,is_compact_fc=False,options=options,log_level=1)\n",
    "\n",
    "#thirdorder_common.write_ifcs(FC3, poscar, sposcar, dmin, nequi, shifts, frange,\"FORCE_CONSTANTS_3RD\")"
   ]
  },
  {
   "cell_type": "code",
   "execution_count": 7,
   "metadata": {},
   "outputs": [],
   "source": [
    "api_qpv.write_ShengBTE_FC2(FC2, filename='FORCE_CONSTANTS_2ND')\n",
    "prim = api_qpv.phonopyAtoms_to_aseAtoms(phonon.get_primitive())\n",
    "api_alm.write_shengBTE_fc3('FORCE_CONSTANTS_3RD',FC3,phonon,prim)"
   ]
  },
  {
   "cell_type": "code",
   "execution_count": 8,
   "metadata": {},
   "outputs": [
    {
     "data": {
      "image/png": "[encoded data removed]",
      "text/plain": [
       "<Figure size 432x288 with 2 Axes>"
      ]
     },
     "metadata": {
      "needs_background": "light"
     },
     "output_type": "display_data"
    }
   ],
   "source": [
    "phonon.set_force_constants(FC2)\n",
    "if NAC == True:\n",
    "    nac_params = PhonIO.get_born_parameters(\n",
    "            open(\"BORN\"),\n",
    "            phonon.get_primitive(),\n",
    "            phonon.get_primitive_symmetry())\n",
    "    if nac_params['factor'] == None:\n",
    "        physical_units = get_default_physical_units(interface_mode)\n",
    "        nac_params['factor'] = physical_units['nac_factor']\n",
    "    phonon._nac_params=nac_params\n",
    "    phonon._set_dynamical_matrix()\n",
    "    \n",
    "bands=api_qpv.qpoints_Band_paths(Qpoints,Band_points)\n",
    "phonon.set_band_structure(bands,is_eigenvectors=True,labels=band_labels)\n",
    "phonon.write_yaml_band_structure()\n",
    "bs_plt=phonon.plot_band_structure()\n",
    "bs_plt.xlabel(\"\")\n",
    "bs_plt.ylabel(\"Frequency (THz)\",fontsize=16)\n",
    "bs_plt.xticks(fontsize=16)\n",
    "bs_plt.yticks(fontsize=16)\n",
    "bs_plt.savefig(\"Bandstructure.png\",dpi=300,bbox_inches='tight')"
   ]
  },
  {
   "cell_type": "code",
   "execution_count": null,
   "metadata": {},
   "outputs": [],
   "source": []
  }
 ],
 "metadata": {
  "kernelspec": {
   "display_name": "Python 3",
   "language": "python",
   "name": "python3"
  },
  "language_info": {
   "codemirror_mode": {
    "name": "ipython",
    "version": 3
   },
   "file_extension": ".py",
   "mimetype": "text/x-python",
   "name": "python",
   "nbconvert_exporter": "python",
   "pygments_lexer": "ipython3",
   "version": "3.8.2"
  }
 },
 "nbformat": 4,
 "nbformat_minor": 4
}
