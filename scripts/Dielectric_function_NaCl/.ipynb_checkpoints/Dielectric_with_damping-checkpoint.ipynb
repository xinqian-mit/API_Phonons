{
 "cells": [
  {
   "cell_type": "code",
   "execution_count": 1,
   "metadata": {},
   "outputs": [],
   "source": [
    "import quippy\n",
    "import numpy as np\n",
    "import API_quippy_phonopy_VASP as api_qpv\n",
    "from phonopy import Phonopy\n",
    "import phonopy.interface.vasp as Intf_vasp\n",
    "import phonopy.file_IO as PhonIO\n",
    "from phonopy.interface.calculator import get_default_physical_units\n",
    "from phonopy.units import Epsilon0, EV, AMU, THzToCm\n",
    "import matplotlib.pyplot as plt\n",
    "from phonopy.structure.symmetry import symmetrize_borns_and_epsilon"
   ]
  },
  {
   "cell_type": "code",
   "execution_count": 2,
   "metadata": {
    "scrolled": false
   },
   "outputs": [
    {
     "name": "stdout",
     "output_type": "stream",
     "text": [
      "[ 0.03421883  0.03411487  0.01086944  0.07652138  0.08327007 -0.05096652]\n"
     ]
    }
   ],
   "source": [
    "# calculate Born effective charge from the potential. \n",
    "Unit_cell = Intf_vasp.read_vasp(\"POSCAR\")\n",
    "prim_mat = np.eye(3) # specify primitive cell\n",
    "gp_xml_file = 'soap_n12l11_6.0cut_coul/gp_NaCl_soap_coul.xml'\n",
    "\n",
    "Freq_BTE_file = 'BTE.omega'\n",
    "Rate_scatt_file = 'BTE.w_final'\n",
    "\n",
    "omega_q = np.loadtxt(Freq_BTE_file) # the first row is at q=0, but q->0 point should be used.\n",
    "Nq,Ns = np.shape(omega_q)\n",
    "DT_rate = np.loadtxt(Rate_scatt_file)\n",
    "rate_scatter = np.reshape(DT_rate[:,1],(Nq,Ns),'F')\n",
    "gamma_to_q0 = rate_scatter[1,:]/5\n",
    "print(gamma_to_q0)"
   ]
  },
  {
   "cell_type": "code",
   "execution_count": 3,
   "metadata": {},
   "outputs": [],
   "source": [
    "Ncells=[4,4,4]\n",
    "q_near_Gamma=[1e-4,0,0]\n",
    "qmesh=[20,20,20]\n",
    "NAC = True\n",
    "interface_mode = 'vasp'\n",
    "\n",
    "phonon_scell = Phonopy(Unit_cell,np.diag(Ncells),primitive_matrix=prim_mat) # generate an phononpy object for LD calc.\n",
    "phonon_scell.generate_displacements(distance=0.03) # vasp\n",
    "Scells_phonopy = phonon_scell.get_supercells_with_displacements() # This returns a list of Phononpy atoms object\n",
    "Scells_quippy=[]\n",
    "for scell in Scells_phonopy:\n",
    "    Scells_quippy.append(api_qpv.phonopyAtoms_to_aseAtoms(scell))\n",
    "\n",
    "force_gap_scells = api_qpv.calc_force_sets_GAP(gp_xml_file,Scells_quippy)\n",
    "\n",
    "phonon_scell.set_forces(force_gap_scells)\n",
    "PhonIO.write_FORCE_SETS(phonon_scell.get_displacement_dataset()) # write forces & displacements to FORCE_SET\n",
    "force_set=PhonIO.parse_FORCE_SETS() # parse force_sets\n",
    "phonon_scell.set_displacement_dataset(force_set) # force_set is a list of forces and displacements\n",
    "\n",
    "\n",
    "if NAC == True:\n",
    "    nac_params = PhonIO.get_born_parameters(\n",
    "            open(\"BORN\"),\n",
    "            phonon_scell.get_primitive(),\n",
    "            phonon_scell.get_primitive_symmetry())\n",
    "    if nac_params['factor'] == None:\n",
    "        physical_units = get_default_physical_units(interface_mode)\n",
    "        nac_params['factor'] = physical_units['nac_factor']\n",
    "    phonon_scell.set_nac_params(nac_params=nac_params)\n",
    "\n",
    "\n",
    "phonon_scell.produce_force_constants()\n",
    "phonon_scell.symmetrize_force_constants()\n",
    "PhonIO.write_FORCE_CONSTANTS(phonon_scell.get_force_constants(), filename='FORCE_CONSTANTS_2ND')\n",
    "phonon_scell.set_mesh(qmesh, is_gamma_center=False, is_eigenvectors=True)\n",
    "# First get acoustic modes\n",
    "Zij_b = phonon_scell._dynamical_matrix.get_born_effective_charges()\n",
    "epsilon_infty = phonon_scell._dynamical_matrix.get_dielectric_constant()\n",
    "\n",
    "freq_qto0,ebs_qto0 = api_qpv.get_freq_reshaped_eigvec_atq(phonon_scell,q_near_Gamma) \n",
    "# frequency is obtained at some q point close to Gamma. \n",
    "freq_q0,ebs_q0 = api_qpv.get_freq_reshaped_eigvec_atq(phonon_scell,[0,0,0])\n",
    "ebs_q0 = np.real(ebs_q0)\n",
    "# Now take the first q point close to Gamma point "
   ]
  },
  {
   "cell_type": "code",
   "execution_count": 5,
   "metadata": {},
   "outputs": [],
   "source": [
    "# Calculate Dynamical charges\n",
    "Ns,Nb,DIM = np.shape(ebs_q0)\n",
    "masses = phonon_scell.get_primitive().get_masses()\n",
    "\n",
    "Z_dyn = np.zeros((Ns,DIM))\n",
    "for mode in range(Ns):\n",
    "    for b in range(Nb):\n",
    "        Z_dyn[mode,:] += np.matmul(Zij_b[b,:,:],ebs_q0[mode,b,:])*np.sqrt(masses[b])\n",
    "\n",
    "Vol = phonon_scell.get_primitive().get_volume() # Volume of Primitive cell\n",
    "unit_conversion = phonon_scell._dynamical_matrix._unit_conversion\n",
    "prefactor = unit_conversion*np.pi*4/Vol #EV**2/Epsilon0/(Vol*1e-30)/AMU"
   ]
  },
  {
   "cell_type": "code",
   "execution_count": 6,
   "metadata": {},
   "outputs": [],
   "source": [
    "freq_max = np.max(freq_qto0)\n",
    "freq = np.linspace(0,2*freq_max,101)\n",
    "omega = 2*np.pi*freq*1e12\n",
    "Nomega = np.size(omega)\n",
    "epsilon_ij = np.zeros((Nomega,DIM,DIM),dtype='complex')\n",
    "epsilon_freq = np.zeros(Nomega,dtype='complex')\n",
    "n_complex = np.zeros(Nomega,dtype='complex')\n",
    "R = np.zeros(Nomega)\n",
    "#for w,iw in enumerate(omega):\n",
    "for iw,f in enumerate(freq):\n",
    "    for mode,fs in enumerate(freq_q0):\n",
    "        if fs>1e-4 and fs<freq_max:\n",
    "            #ws = fs*2*np.PI*1e12\n",
    "            gamma_mode = gamma_to_q0[mode]\n",
    "            epsilon_ij[iw,:,:]=epsilon_infty+prefactor*np.outer(Z_dyn[mode,:],Z_dyn[mode,:])/(fs**2-f**2-1j*gamma_mode*f)\n",
    "    Z_ij_b,epsilon_ij[iw,:,:] = symmetrize_borns_and_epsilon(Zij_b,epsilon_ij[iw,:,:],Unit_cell)\n",
    "    epsilon_freq[iw] = np.trace(epsilon_ij[iw,:,:])/3.0\n",
    "\n",
    "n_complex = np.sqrt(epsilon_freq)\n",
    "R = np.abs((n_complex-1)/(n_complex+1))**2"
   ]
  },
  {
   "cell_type": "code",
   "execution_count": 7,
   "metadata": {},
   "outputs": [
    {
     "data": {
      "text/plain": [
       "Text(0, 0.5, 'Dielectric function')"
      ]
     },
     "execution_count": 7,
     "metadata": {},
     "output_type": "execute_result"
    },
    {
     "data": {
      "image/png": "[encoded data removed]",
      "text/plain": [
       "<Figure size 432x288 with 1 Axes>"
      ]
     },
     "metadata": {
      "needs_background": "light"
     },
     "output_type": "display_data"
    }
   ],
   "source": [
    "wavenumber = freq*THzToCm\n",
    "plt.plot(wavenumber,np.real(epsilon_freq))\n",
    "plt.plot(wavenumber,np.imag(epsilon_freq))\n",
    "plt.xlabel('wavenumber ($cm^{-1}$)')\n",
    "plt.ylabel('Dielectric function')"
   ]
  },
  {
   "cell_type": "code",
   "execution_count": 8,
   "metadata": {},
   "outputs": [
    {
     "data": {
      "text/plain": [
       "Text(0, 0.5, 'n and $\\\\kappa$')"
      ]
     },
     "execution_count": 8,
     "metadata": {},
     "output_type": "execute_result"
    },
    {
     "data": {
      "image/png": "[encoded data removed]",
      "text/plain": [
       "<Figure size 432x288 with 1 Axes>"
      ]
     },
     "metadata": {
      "needs_background": "light"
     },
     "output_type": "display_data"
    }
   ],
   "source": [
    "plt.plot(wavenumber,np.real(n_complex))\n",
    "plt.plot(wavenumber,np.imag(n_complex))\n",
    "plt.xlabel('wavenumber ($cm^{-1}$)')\n",
    "plt.ylabel('n and $\\kappa$')"
   ]
  },
  {
   "cell_type": "code",
   "execution_count": 9,
   "metadata": {},
   "outputs": [
    {
     "data": {
      "text/plain": [
       "(0.0, 1.0)"
      ]
     },
     "execution_count": 9,
     "metadata": {},
     "output_type": "execute_result"
    },
    {
     "data": {
      "image/png": "[encoded data removed]",
      "text/plain": [
       "<Figure size 432x288 with 1 Axes>"
      ]
     },
     "metadata": {
      "needs_background": "light"
     },
     "output_type": "display_data"
    }
   ],
   "source": [
    "plt.plot(wavenumber,R)\n",
    "plt.xlabel('wavenumber ($cm^{-1}$)')\n",
    "plt.ylabel('Reflection')\n",
    "plt.ylim([0,1])"
   ]
  },
  {
   "cell_type": "code",
   "execution_count": 10,
   "metadata": {},
   "outputs": [],
   "source": [
    "api_qpv.write_2D_array('Real_Dielectric.dat',np.array([wavenumber,np.real(epsilon_freq)]))\n",
    "api_qpv.write_2D_array('Imag_Dielectric.dat',np.array([wavenumber,np.imag(epsilon_freq)]))\n",
    "api_qpv.write_2D_array('Reflection.dat',np.array([wavenumber,R]))"
   ]
  },
  {
   "cell_type": "code",
   "execution_count": null,
   "metadata": {},
   "outputs": [],
   "source": []
  }
 ],
 "metadata": {
  "kernelspec": {
   "display_name": "Python 3",
   "language": "python",
   "name": "python3"
  },
  "language_info": {
   "codemirror_mode": {
    "name": "ipython",
    "version": 3
   },
   "file_extension": ".py",
   "mimetype": "text/x-python",
   "name": "python",
   "nbconvert_exporter": "python",
   "pygments_lexer": "ipython3",
   "version": "3.8.2"
  }
 },
 "nbformat": 4,
 "nbformat_minor": 2
}
