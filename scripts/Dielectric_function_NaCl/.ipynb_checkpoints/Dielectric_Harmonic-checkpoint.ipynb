{
 "cells": [
  {
   "cell_type": "markdown",
   "metadata": {},
   "source": [
    "### Lorentz Oscillator for phonon contribution to $\\epsilon^{\\alpha\\beta}(\\omega)$\n",
    "\n",
    "$\\epsilon(\\omega) = \\epsilon_{\\infty}(\\omega)+\\sum_{\\lambda}\\frac{e^2}{V_p\\epsilon_0}\\frac{Z_\\lambda^{*\\alpha}Z_\\lambda^{*\\beta}}{\\omega_\\lambda^2-\\omega^2}$\n",
    "\n",
    "where the dynamical charge in direction $\\alpha$ is the projection of born effective charge tensor onto the eigenvector $\\mathbf{e}_{b\\lambda}$\n",
    "\n",
    "$Z_\\lambda^{*\\alpha} = \\sum_b{\\sqrt{m_b}Z_b^{\\alpha\\beta}e_{b\\lambda}^\\beta}$"
   ]
  },
  {
   "cell_type": "code",
   "execution_count": 1,
   "metadata": {},
   "outputs": [],
   "source": [
    "import quippy\n",
    "from quippy.units import BOHR, HARTREE, PI\n",
    "from quippy.farray import fzeros, frange, fidentity\n",
    "import numpy as np\n",
    "import API_quippy_phonopy_VASP as api_qpv\n",
    "from phonopy import Phonopy\n",
    "import phonopy.interface.vasp as Intf_vasp\n",
    "import phonopy.file_IO as PhonIO\n",
    "from phonopy.interface import get_default_physical_units\n",
    "from quippy.units import BOHR, HARTREE, PI\n",
    "from phonopy.units import Epsilon0, EV, AMU\n",
    "import matplotlib.pyplot as plt\n",
    "from phonopy.structure.symmetry import symmetrize_borns_and_epsilon"
   ]
  },
  {
   "cell_type": "code",
   "execution_count": 2,
   "metadata": {},
   "outputs": [],
   "source": [
    "# calculate Born effective charge from the potential. \n",
    "Unit_cell = Intf_vasp.read_vasp(\"POSCAR\")\n",
    "prim_mat = np.eye(3) # specify primitive cell\n",
    "gp_xml_file = 'soap_n12l11_6.0cut_coul/gp_NaCl_soap_coul.xml'"
   ]
  },
  {
   "cell_type": "code",
   "execution_count": 3,
   "metadata": {},
   "outputs": [],
   "source": [
    "Ncells=[4,4,4]\n",
    "q_near_Gamma=[1e-4,0,0]\n",
    "qmesh=[20,20,20]\n",
    "NAC = True\n",
    "g_damp_Gamma = []\n",
    "interface_mode = 'vasp'\n",
    "\n",
    "phonon_scell = Phonopy(Unit_cell,np.diag(Ncells),primitive_matrix=prim_mat) # generate an phononpy object for LD calc.\n",
    "phonon_scell.generate_displacements(distance=0.03) # vasp\n",
    "Scells_phonopy = phonon_scell.get_supercells_with_displacements() # This returns a list of Phononpy atoms object\n",
    "Scells_quippy=api_qpv.phonopyAtoms_to_quipAtoms(Scells_phonopy) \n",
    "force_gap_scells = api_qpv.calc_force_sets_GAP(gp_xml_file,Scells_quippy)\n",
    "\n",
    "phonon_scell.set_forces(force_gap_scells)\n",
    "PhonIO.write_FORCE_SETS(phonon_scell.get_displacement_dataset()) # write forces & displacements to FORCE_SET\n",
    "force_set=PhonIO.parse_FORCE_SETS() # parse force_sets\n",
    "phonon_scell.set_displacement_dataset(force_set) # force_set is a list of forces and displacements\n",
    "\n",
    "\n",
    "if NAC == True:\n",
    "    nac_params = PhonIO.get_born_parameters(\n",
    "            open(\"BORN\"),\n",
    "            phonon_scell.get_primitive(),\n",
    "            phonon_scell.get_primitive_symmetry())\n",
    "    if nac_params['factor'] == None:\n",
    "        physical_units = get_default_physical_units(interface_mode)\n",
    "        nac_params['factor'] = physical_units['nac_factor']\n",
    "    phonon_scell.set_nac_params(nac_params=nac_params)\n",
    "\n",
    "\n",
    "phonon_scell.produce_force_constants()\n",
    "phonon_scell.symmetrize_force_constants()\n",
    "PhonIO.write_FORCE_CONSTANTS(phonon_scell.get_force_constants(), filename='FORCE_CONSTANTS_2ND')"
   ]
  },
  {
   "cell_type": "code",
   "execution_count": 4,
   "metadata": {},
   "outputs": [],
   "source": [
    "phonon_scell.set_mesh(qmesh, is_gamma_center=False, is_eigenvectors=True)\n",
    "# First get acoustic modes\n",
    "Zij_b = phonon_scell._dynamical_matrix.get_born_effective_charges()\n",
    "epsilon_infty = phonon_scell._dynamical_matrix.get_dielectric_constant()"
   ]
  },
  {
   "cell_type": "code",
   "execution_count": 5,
   "metadata": {},
   "outputs": [],
   "source": [
    "freq_qto0,ebs_qto0 = api_qpv.get_freq_reshaped_eigvec_atq(phonon_scell,q_near_Gamma) \n",
    "# frequency is obtained at some q point close to Gamma. \n",
    "freq_q0,ebs_q0 = api_qpv.get_freq_reshaped_eigvec_atq(phonon_scell,[0,0,0])\n",
    "ebs_q0 = np.real(ebs_q0)\n",
    "# Now take the first q point close to Gamma point "
   ]
  },
  {
   "cell_type": "code",
   "execution_count": 6,
   "metadata": {},
   "outputs": [],
   "source": [
    "# Calculate Dynamical charges\n",
    "Ns,Nb,DIM = np.shape(ebs_q0)\n",
    "masses = phonon_scell.get_primitive().get_masses()\n",
    "\n",
    "Z_dyn = np.zeros((Ns,DIM))\n",
    "for mode in range(Ns):\n",
    "    for b in range(Nb):\n",
    "        Z_dyn[mode,:] += np.matmul(Zij_b[b,:,:],ebs_q0[mode,b,:])*np.sqrt(masses[b])"
   ]
  },
  {
   "cell_type": "code",
   "execution_count": 7,
   "metadata": {},
   "outputs": [],
   "source": [
    "Vol = phonon_scell.get_primitive().get_volume() # Volume of Primitive cell\n",
    "unit_conversion = phonon_scell._dynamical_matrix._unit_conversion\n",
    "prefactor = unit_conversion*PI*4/Vol #EV**2/Epsilon0/(Vol*1e-30)/AMU"
   ]
  },
  {
   "cell_type": "code",
   "execution_count": 8,
   "metadata": {},
   "outputs": [
    {
     "name": "stderr",
     "output_type": "stream",
     "text": [
      "/usr/local/lib/python2.7/dist-packages/ipykernel_launcher.py:13: RuntimeWarning: divide by zero encountered in divide\n",
      "  del sys.path[0]\n"
     ]
    }
   ],
   "source": [
    "#freq_max = np.max(freq_q0)\n",
    "freq = np.linspace(0,2*freq_max,51)\n",
    "omega = 2*np.PI*freq*1e12\n",
    "Nomega = np.size(omega)\n",
    "epsilon_ij = np.zeros((Nomega,DIM,DIM))\n",
    "epsilon_freq = np.zeros(Nomega)\n",
    "#for w,iw in enumerate(omega):\n",
    "for iw,f in enumerate(freq):\n",
    "    for mode,fs in enumerate(freq_q0):\n",
    "        if fs>1e-4: #and fs<freq_max:\n",
    "            #ws = fs*2*np.PI*1e12\n",
    "            #print fs\n",
    "            epsilon_ij[iw,:,:]=epsilon_infty+prefactor*np.outer(Z_dyn[mode,:],Z_dyn[mode,:])/(fs**2-f**2)\n",
    "    Z_ij_b,epsilon_ij[iw,:,:] = symmetrize_borns_and_epsilon(Zij_b,epsilon_ij[iw,:,:],Unit_cell)\n",
    "    epsilon_freq[iw] = np.trace(epsilon_ij[iw,:,:])/3.0"
   ]
  },
  {
   "cell_type": "code",
   "execution_count": 9,
   "metadata": {
    "scrolled": true
   },
   "outputs": [
    {
     "data": {
      "text/plain": [
       "[<matplotlib.lines.Line2D at 0x7f38cf746510>]"
      ]
     },
     "execution_count": 9,
     "metadata": {},
     "output_type": "execute_result"
    },
    {
     "data": {
      "image/png": "[encoded data removed]",
      "text/plain": [
       "<Figure size 432x288 with 1 Axes>"
      ]
     },
     "metadata": {
      "needs_background": "light"
     },
     "output_type": "display_data"
    }
   ],
   "source": [
    "plt.plot(freq,epsilon_freq)"
   ]
  },
  {
   "cell_type": "code",
   "execution_count": 10,
   "metadata": {},
   "outputs": [
    {
     "data": {
      "text/plain": [
       "array([ 6.64279219e+00,  6.64953532e+00,  6.66989503e+00,  6.70426856e+00,\n",
       "        6.75333974e+00,  6.81811370e+00,  6.89997009e+00,  7.00074027e+00,\n",
       "        7.12281685e+00,  7.26930875e+00,  7.44426194e+00,  7.65297802e+00,\n",
       "        7.90248269e+00,  8.20223086e+00,  8.56519865e+00,  9.00963254e+00,\n",
       "        9.56196656e+00,  1.02619290e+01,  1.11720282e+01,  1.23965253e+01,\n",
       "        1.41231765e+01,  1.67275902e+01,  2.10863002e+01,  2.98290616e+01,\n",
       "        5.61049253e+01,             nan, -4.91300734e+01, -2.28516799e+01,\n",
       "       -1.41046889e+01, -9.74002871e+00, -7.12791534e+00, -5.39177703e+00,\n",
       "       -4.15595813e+00, -3.23264516e+00, -2.51750897e+00, -1.94796170e+00,\n",
       "       -1.48418274e+00, -1.09963182e+00, -7.75940627e-01, -4.99993886e-01,\n",
       "       -2.62177967e-01, -5.52863272e-02,  1.26188715e-01,  2.86528110e-01,\n",
       "        4.29109091e-01,  5.56631273e-01,  6.71278134e-01,  7.74834449e-01,\n",
       "        8.68773071e-01,  9.54320022e-01,  1.03250394e+00])"
      ]
     },
     "execution_count": 10,
     "metadata": {},
     "output_type": "execute_result"
    }
   ],
   "source": [
    "LST = max(freq_to0)"
   ]
  },
  {
   "cell_type": "code",
   "execution_count": 11,
   "metadata": {},
   "outputs": [
    {
     "data": {
      "text/plain": [
       "array([-7.78650727e-08, -7.16149790e-08,  3.07853009e-08,  4.56667801e+00,\n",
       "        4.56667801e+00,  4.56667801e+00])"
      ]
     },
     "execution_count": 11,
     "metadata": {},
     "output_type": "execute_result"
    }
   ],
   "source": [
    "freq_q0"
   ]
  },
  {
   "cell_type": "code",
   "execution_count": null,
   "metadata": {},
   "outputs": [],
   "source": []
  }
 ],
 "metadata": {
  "kernelspec": {
   "display_name": "Python 2",
   "language": "python",
   "name": "python2"
  },
  "language_info": {
   "codemirror_mode": {
    "name": "ipython",
    "version": 2
   },
   "file_extension": ".py",
   "mimetype": "text/x-python",
   "name": "python",
   "nbconvert_exporter": "python",
   "pygments_lexer": "ipython2",
   "version": "2.7.12"
  }
 },
 "nbformat": 4,
 "nbformat_minor": 2
}
