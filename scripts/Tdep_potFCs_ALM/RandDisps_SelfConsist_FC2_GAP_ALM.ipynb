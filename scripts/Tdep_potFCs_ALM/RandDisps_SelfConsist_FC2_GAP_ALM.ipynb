{
 "cells": [
  {
   "cell_type": "code",
   "execution_count": 1,
   "metadata": {},
   "outputs": [],
   "source": [
    "import matplotlib\n",
    "import matplotlib.pyplot as plt\n",
    "from matplotlib import rc\n",
    "import numpy as np\n",
    "from phonopy import Phonopy\n",
    "import phonopy.interface.vasp as Intf_vasp\n",
    "from phonopy.structure.atoms import PhonopyAtoms\n",
    "import phonopy.file_IO as PhonIO\n",
    "from phonopy.interface.calculator import get_default_physical_units\n",
    "import API_quippy_phonopy_VASP as api_qpv # remember to set this module to python path\n",
    "import copy as cp\n",
    "from phonopy.interface.alm import get_fc2"
   ]
  },
  {
   "cell_type": "code",
   "execution_count": 2,
   "metadata": {},
   "outputs": [],
   "source": [
    "Temperatures= [300] #[10,50,100,150,200,300]\n",
    "NSnaps = 50\n",
    "Niter = 1 # number of iterations\n",
    "if_write_iter = False\n",
    "gp_xml_file= \"../Dielectric_function_NaCl/soap_n12l11_6.0cut_coul/gp_NaCl_soap_coul.xml\"\n",
    "Qpoints=np.array([[0.0001,0.0001,1.0],[0.5,0.5,1.0],[3./8,3./8,3./4],[0.0,0.0,0.0],[0.5,0.5,0.5]])\n",
    "band_labels=['$\\Gamma$','X','K','$\\Gamma$','L']\n",
    "#Qpoints = np.array([[0.5,0.0,0.0],[0,0,0],[2./3,1./3,0.0]])\n",
    "#band_labels = ['M','$\\Gamma$','K']\n",
    "Ncells=[4,4,4]\n",
    "Band_points=51\n",
    "NAC = True\n",
    "interface_mode = 'vasp'\n",
    "\n",
    "Unit_cell = Intf_vasp.read_vasp(\"POSCAR\") # read prim cell from the POSCAR file\n",
    "prim_mat = np.eye(3)#[[0, 0.5, 0.5],[0.5, 0, 0.5],[0.5, 0.5, 0]]"
   ]
  },
  {
   "cell_type": "code",
   "execution_count": 3,
   "metadata": {},
   "outputs": [],
   "source": [
    "# Obtain Eigenvectors using Finite Displace\n",
    "phonon = Phonopy(Unit_cell,np.diag(Ncells),primitive_matrix=prim_mat)\n",
    "phonon_scell = Phonopy(phonon.get_supercell(),np.eye(3),primitive_matrix=prim_mat) # generate an phononpy object for LD calc.\n",
    "phonon_scell.generate_displacements(distance=0.03) # vasp\n",
    "Scells_phonopy = phonon_scell.get_supercells_with_displacements() # This returns a list of Phononpy atoms object"
   ]
  },
  {
   "cell_type": "code",
   "execution_count": 4,
   "metadata": {},
   "outputs": [],
   "source": [
    "Scells_quippy=[]\n",
    "for scell in Scells_phonopy:\n",
    "    Scells_quippy.append(api_qpv.phonopyAtoms_to_aseAtoms(scell))"
   ]
  },
  {
   "cell_type": "code",
   "execution_count": 5,
   "metadata": {},
   "outputs": [],
   "source": [
    "force_quip_scells = api_qpv.calc_force_sets_GAP(gp_xml_file,Scells_quippy)\n",
    "\n",
    "#parse force set and calc force constants\n",
    "phonon_scell.set_forces(force_quip_scells)\n",
    "PhonIO.write_FORCE_SETS(phonon_scell.get_displacement_dataset()) # write forces & displacements to FORCE_SET\n",
    "force_set=PhonIO.parse_FORCE_SETS() # parse force_sets\n",
    "phonon_scell.set_displacement_dataset(force_set) # force_set is a list of forces and displacements\n",
    "\n",
    "\n",
    "phonon_scell.produce_force_constants()\n",
    "phonon_scell.symmetrize_force_constants()\n",
    "\n",
    "if NAC == True:\n",
    "    nac_params_sc = PhonIO.get_born_parameters(open(\"BORN\"), \n",
    "                                                phonon_scell.get_primitive(),\n",
    "                                                phonon_scell.get_primitive_symmetry())\n",
    "    if nac_params_sc['factor'] == None:\n",
    "        physical_units = get_default_physical_units(interface_mode)\n",
    "        nac_params_sc['factor'] = physical_units['nac_factor']\n",
    "    phonon_scell._nac_params = nac_params_sc\n",
    "    \n",
    "phonon_scell._set_dynamical_matrix()\n",
    "DynMat0 = phonon_scell._dynamical_matrix.get_dynamical_matrix()\n",
    "bands_sc=api_qpv.qpoints_Band_paths([[0.0,0.0,0.0]],1) #supercell\n",
    "phonon_scell.set_band_structure(bands_sc, is_eigenvectors=True)\n",
    "phonon_scell.set_mesh([1,1,1], is_eigenvectors=True)\n",
    "\n",
    "#eigvecs=api_qpv.get_reshaped_eigvecs(phonon_scell) # zero-th iteration, eigenvectors from finite displacement\n",
    "\n",
    "\n"
   ]
  },
  {
   "cell_type": "code",
   "execution_count": 6,
   "metadata": {},
   "outputs": [
    {
     "name": "stdout",
     "output_type": "stream",
     "text": [
      "--------------------------------- ALM start --------------------------------\n",
      "ALM is a non-trivial force constants calculator. Please cite the paper:\n",
      "T. Tadano and S. Tsuneyuki, J. Phys. Soc. Jpn. 87, 041015 (2018).\n",
      "ALM is developed at https://github.com/ttadano/ALM by T. Tadano.\n",
      "Increase log-level to watch detailed ALM log.\n",
      "---------------------------------- ALM end ---------------------------------\n"
     ]
    },
    {
     "data": {
      "image/png": "[encoded data removed]",
      "text/plain": [
       "<Figure size 432x288 with 2 Axes>"
      ]
     },
     "metadata": {
      "needs_background": "light"
     },
     "output_type": "display_data"
    }
   ],
   "source": [
    "# Generate thermal displacements along eigenvectors, i.e. populate phonon modes.\n",
    "\n",
    "for Temperature in Temperatures:\n",
    "    FCSum = np.zeros(phonon_scell.get_force_constants().shape)\n",
    "    FCave = np.zeros(FCSum.shape)\n",
    "    for icalc in range(Niter):\n",
    "        u_disps = api_qpv.thermo_disp_along_eig(phonon_scell,Temperature,NSnaps)\n",
    "        Scell_snaps = [];\n",
    "        Supercell = phonon_scell.get_supercell()\n",
    "        Intf_vasp.write_vasp(\"SPOSCAR_NaCl\",Supercell)\n",
    "        pos0 = Supercell.get_positions()\n",
    "        \n",
    "        snaps_ase=[]\n",
    "        for isnap in range(NSnaps):\n",
    "            Scell_tmp = cp.deepcopy(Supercell)\n",
    "            pos = pos0 + u_disps[isnap]\n",
    "            Scell_tmp.set_positions(pos)\n",
    "            Scell_snaps.append(Scell_tmp)\n",
    "            snaps_ase.append(api_qpv.phonopyAtoms_to_aseAtoms(Scell_tmp))\n",
    "        \n",
    "        displacements,forces=api_qpv.get_DFSETS(Supercell,Scell_snaps,gp_xml_file)\n",
    "        FC2=get_fc2(Supercell,phonon.get_primitive(),displacements,forces,log_level=1)\n",
    "        FCSum = FCSum + FC2\n",
    "        FCave = FCSum/(icalc+1)\n",
    "        phonon_scell.set_force_constants(FCave) # average.\n",
    "        bands_sc=api_qpv.qpoints_Band_paths([[0.0,0.0,0.0]],1) #supercell\n",
    "        phonon_scell.set_band_structure(bands_sc, is_eigenvectors=True)\n",
    "        phonon_scell.set_mesh([1,1,1], is_eigenvectors=True)\n",
    "        \n",
    "        phonon.set_force_constants(FCave)\n",
    "        phonon.symmetrize_force_constants()\n",
    "        \n",
    "        \n",
    "        if NAC == True:\n",
    "            nac_params = PhonIO.get_born_parameters(open(\"BORN\"), \n",
    "                                                    phonon.get_primitive(),\n",
    "                                                    phonon.get_primitive_symmetry())\n",
    "            nac_params_sc = PhonIO.get_born_parameters(open(\"BORN\"), \n",
    "                                                    phonon_scell.get_primitive(),\n",
    "                                                    phonon_scell.get_primitive_symmetry())\n",
    "                \n",
    "            if nac_params['factor'] == None:\n",
    "                physical_units = get_default_physical_units(interface_mode)\n",
    "                nac_params['factor'] = physical_units['nac_factor']\n",
    "            if nac_params_sc['factor'] == None:\n",
    "                nac_params_sc['factor'] = physical_units['nac_factor']\n",
    "            phonon._nac_params = nac_params\n",
    "            phonon_scell._nac_params = nac_params_sc\n",
    "            phonon._set_dynamical_matrix()\n",
    "            phonon_scell._set_dynamical_matrix()\n",
    "        \n",
    "        if if_write_iter:\n",
    "            bands=api_qpv.qpoints_Band_paths(Qpoints,Band_points)\n",
    "            phonon.set_band_structure(bands,labels=band_labels)\n",
    "            bs_plt=phonon.plot_band_structure()\n",
    "            phonon.write_yaml_band_structure(filename='NaCl_disp_'+str(Temperature)+'K_iter'+str(icalc+1)+'.yaml')\n",
    "\n",
    "    \n",
    "    PhonIO.write_FORCE_CONSTANTS(phonon.get_force_constants(), filename='FORCE_CONSTANTS_'+str(Temperature)+'K')\n",
    "    bands=api_qpv.qpoints_Band_paths(Qpoints,Band_points)\n",
    "    phonon.set_band_structure(bands,labels=band_labels)\n",
    "    bs_plt=phonon.plot_band_structure()\n",
    "    phonon.write_yaml_band_structure(filename='NaCl_disp_'+str(Temperature)+'K.yaml')"
   ]
  },
  {
   "cell_type": "code",
   "execution_count": 7,
   "metadata": {},
   "outputs": [],
   "source": [
    "import API_alamode as api_alm"
   ]
  },
  {
   "cell_type": "code",
   "execution_count": null,
   "metadata": {},
   "outputs": [
    {
     "name": "stdout",
     "output_type": "stream",
     "text": [
      "--------------------------------- ALM start --------------------------------\n",
      "ALM is a non-trivial force constants calculator. Please cite the paper:\n",
      "T. Tadano and S. Tsuneyuki, J. Phys. Soc. Jpn. 87, 041015 (2018).\n",
      "ALM is developed at https://github.com/ttadano/ALM by T. Tadano.\n",
      "Increase log-level to watch detailed ALM log.\n"
     ]
    }
   ],
   "source": [
    "ifc2,ifc3 = api_alm.get_fc2_fc3(Supercell,phonon.get_primitive(),displacements,forces,log_level=1)"
   ]
  },
  {
   "cell_type": "code",
   "execution_count": null,
   "metadata": {},
   "outputs": [],
   "source": []
  }
 ],
 "metadata": {
  "kernelspec": {
   "display_name": "Python 3",
   "language": "python",
   "name": "python3"
  },
  "language_info": {
   "codemirror_mode": {
    "name": "ipython",
    "version": 3
   },
   "file_extension": ".py",
   "mimetype": "text/x-python",
   "name": "python",
   "nbconvert_exporter": "python",
   "pygments_lexer": "ipython3",
   "version": "3.8.2"
  }
 },
 "nbformat": 4,
 "nbformat_minor": 4
}
