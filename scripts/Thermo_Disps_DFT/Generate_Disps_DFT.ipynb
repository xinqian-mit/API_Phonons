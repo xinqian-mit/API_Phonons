{
 "cells": [
  {
   "cell_type": "code",
   "execution_count": 10,
   "metadata": {},
   "outputs": [],
   "source": [
    "# Before executing this script, \n",
    "# 1. Preprocess, phonopy -d --dim=\"X Y Z\"\n",
    "# 2. After several DFT calculations, collect the vasprun.xml files\n",
    "# 3. run phonopy -f ./vaspruns/*\n",
    "\n",
    "import matplotlib\n",
    "import matplotlib.pyplot as plt\n",
    "from matplotlib import rc\n",
    "import numpy as np\n",
    "from phonopy import Phonopy\n",
    "import phonopy.interface.vasp as Intf_vasp\n",
    "from phonopy.structure.atoms import PhonopyAtoms\n",
    "from phonopy.interface.calculator import get_default_physical_units\n",
    "import phonopy.file_IO as PhonIO\n",
    "import API_quippy_phonopy_VASP as api_qpv # remember to set this module to python path\n",
    "import phonopy.units as Units\n",
    "import copy as cp\n",
    "import os"
   ]
  },
  {
   "cell_type": "code",
   "execution_count": 2,
   "metadata": {},
   "outputs": [],
   "source": [
    "Qpoints=np.array([[0.,0.,0.]]) # Qpoints should always be a 2D array.\n",
    "Ncells=[4,4,4] # construct supercell.\n",
    "qmesh=[2,2,2] # Gamma point\n",
    "Band_points=1\n",
    "NSnaps = 10\n",
    "Temperature = 300\n",
    "directory = 'Testing_T'+str(Temperature)\n",
    "Snap_file = 'Thermo_Disps_T'+str(Temperature)+'.xyz'\n",
    "NAC = True\n",
    "interface_mode='vasp'"
   ]
  },
  {
   "cell_type": "code",
   "execution_count": 3,
   "metadata": {},
   "outputs": [],
   "source": [
    "# generate displacements\n",
    "Prim_cell = Intf_vasp.read_vasp(\"POSCAR\") # read prim cell from the POSCAR file\n",
    "Supercell = Phonopy(Prim_cell,np.diag(Ncells)).get_supercell()\n",
    "phonon_scell = Phonopy(Supercell,np.eye(3,dtype=int)) #create phonon obj from the supercell.\n",
    "phonon_scell.generate_displacements(distance=0.01) # vasp\n",
    "Scells_phonopy = phonon_scell.get_supercells_with_displacements() # This returns a list of Phononpy atoms object"
   ]
  },
  {
   "cell_type": "code",
   "execution_count": 4,
   "metadata": {},
   "outputs": [],
   "source": [
    "force_set= PhonIO.parse_FORCE_SETS() # parse force_sets\n",
    "phonon_scell.set_displacement_dataset(force_set) # force_set is a list of forces and displacements\n",
    "phonon_scell.produce_force_constants()\n",
    "phonon_scell.symmetrize_force_constants()"
   ]
  },
  {
   "cell_type": "code",
   "execution_count": 5,
   "metadata": {
    "scrolled": true
   },
   "outputs": [],
   "source": [
    "if NAC == True:\n",
    "    nac_params = PhonIO.get_born_parameters(\n",
    "            open(\"BORN\"),\n",
    "            phonon_scell.get_primitive(),\n",
    "            phonon_scell.get_primitive_symmetry())\n",
    "    if nac_params['factor'] == None:\n",
    "        physical_units = get_default_physical_units(interface_mode)\n",
    "        nac_params['factor'] = physical_units['nac_factor']\n",
    "        phonon_scell._nac_params=nac_params\n",
    "    \n"
   ]
  },
  {
   "cell_type": "code",
   "execution_count": 6,
   "metadata": {},
   "outputs": [],
   "source": [
    "# set qpoints along BZ path\n",
    "bands=api_qpv.qpoints_Band_paths(Qpoints,Band_points)\n",
    "phonon_scell.set_band_structure(bands, is_eigenvectors=True)\n",
    "phonon_scell.set_mesh(qmesh, is_eigenvectors=True)\n",
    "phonon_scell.write_yaml_band_structure()\n",
    "eigvecs=api_qpv.get_reshaped_eigvecs(phonon_scell)"
   ]
  },
  {
   "cell_type": "code",
   "execution_count": 7,
   "metadata": {},
   "outputs": [
    {
     "name": "stdout",
     "output_type": "stream",
     "text": [
      "0\n",
      "1\n",
      "2\n",
      "3\n",
      "4\n",
      "5\n",
      "6\n",
      "7\n",
      "8\n",
      "9\n"
     ]
    }
   ],
   "source": [
    "u_disps = api_qpv.thermo_disp_along_eig(phonon_scell,Temperature,NSnaps)\n",
    "Scell_snaps = [];\n",
    "pos0 = Supercell.get_positions();"
   ]
  },
  {
   "cell_type": "code",
   "execution_count": 8,
   "metadata": {},
   "outputs": [],
   "source": [
    "for isnap in range(NSnaps):\n",
    "    Scell_tmp = cp.deepcopy(Supercell)\n",
    "    pos = pos0 + u_disps[isnap]\n",
    "    Scell_tmp.set_positions(pos)\n",
    "    Scell_snaps.append(Scell_tmp)\n",
    "\n",
    "api_qpv.write_Supercells_VASP(Scell_snaps,directory)"
   ]
  },
  {
   "cell_type": "code",
   "execution_count": 11,
   "metadata": {},
   "outputs": [],
   "source": [
    "if not os.path.exists(directory):\n",
    "    os.mkdir(directory)\n",
    "\n",
    "api_qpv.write_Supercells_VASP(Scell_snaps,directory)\n",
    "\n",
    "\n",
    "# Output xyz file\n",
    "Scell_snaps_ase = []\n",
    "for scell in Scell_snaps:\n",
    "    Scell_snaps_ase.append(api_qpv.phonopyAtoms_to_aseAtoms(scell))\n",
    "\n",
    "\n",
    "api_qpv.write_xyz_aseAtomsList(Scell_snaps_ase,Snap_file)"
   ]
  },
  {
   "cell_type": "code",
   "execution_count": null,
   "metadata": {},
   "outputs": [],
   "source": []
  }
 ],
 "metadata": {
  "kernelspec": {
   "display_name": "Python 3",
   "language": "python",
   "name": "python3"
  },
  "language_info": {
   "codemirror_mode": {
    "name": "ipython",
    "version": 3
   },
   "file_extension": ".py",
   "mimetype": "text/x-python",
   "name": "python",
   "nbconvert_exporter": "python",
   "pygments_lexer": "ipython3",
   "version": "3.8.2"
  }
 },
 "nbformat": 4,
 "nbformat_minor": 4
}
