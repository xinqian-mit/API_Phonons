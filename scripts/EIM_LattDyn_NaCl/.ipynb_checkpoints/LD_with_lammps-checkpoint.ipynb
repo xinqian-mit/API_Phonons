{
 "cells": [
  {
   "cell_type": "code",
   "execution_count": 1,
   "metadata": {},
   "outputs": [],
   "source": [
    "from ase.spacegroup import crystal\n",
    "from ase.visualize import view\n",
    "from ase.io import write\n",
    "import ase.build\n",
    "import numpy as np\n",
    "from phonopy.structure.atoms import PhonopyAtoms\n",
    "import API_quippy_phonopy_VASP as api_qpv\n",
    "from phonopy import Phonopy\n",
    "import phonopy.file_IO as PhonIO\n",
    "from phonopy.interface import get_default_physical_units\n",
    "import copy as cp\n",
    "from joblib import Parallel, delayed\n",
    "import multiprocessing as mp\n",
    "import API_phonopy_lammps as api_pl"
   ]
  },
  {
   "cell_type": "code",
   "execution_count": 2,
   "metadata": {},
   "outputs": [],
   "source": [
    "a = 5.65414946767\n",
    "Qpoints=np.array([[0.0001,0.0001,1.0],[0.5,0.5,1.0],[3./8,3./8,3./4],[0.0,0.0,0.0],[0.5,0.5,0.5]])\n",
    "band_labels=['$\\Gamma$','X','K','$\\Gamma$','L']\n",
    "\n",
    "Nrepeat=[3,3,3]\n",
    "\n",
    "prim = [[0, 0.5, 0.5],[0.5, 0, 0.5],[0.5, 0.5, 0]]\n",
    "nacl = crystal(['Na', 'Cl'], [(0, 0, 0), (0.5, 0.5, 0.5)], spacegroup=225,\n",
    "               cellpar=[a, a, a, 90, 90, 90])\n",
    "\n",
    "\n",
    "ucell_ph = api_qpv.aseAtoms_to_phonopyAtoms(nacl)\n",
    "phonon = Phonopy(ucell_ph,np.diag(Nrepeat),primitive_matrix=prim)\n",
    "phonon.generate_displacements(distance=0.03) # vasp\n",
    "Scell0 = api_qpv.phonopyAtoms_to_aseAtoms(phonon.get_supercell())\n",
    "\n",
    "Scells_ph = phonon.get_supercells_with_displacements() # This returns a list of Phononpy atoms object\n",
    "\n",
    "cmds = [\"set type         1 charge  1.08559\n",
    "set type         2 charge -1.08559\"\n",
    "        \"pair_style hybrid/overlay eim coul/cut 25\",\n",
    "        \"pair_coeff * * eim Na Cl ffield.eim Na Cl\",\n",
    "        \"pair_coeff * * coul/cut\"]\n",
    "\n",
    "Band_points=100\n",
    "NAC = True\n",
    "interface_mode = 'vasp'"
   ]
  },
  {
   "cell_type": "code",
   "execution_count": 3,
   "metadata": {},
   "outputs": [],
   "source": [
    "forces = api_pl.calc_lmp_force_sets(cmds,Scells_ph,'charge')\n",
    "phonon.set_forces(forces)\n",
    "PhonIO.write_FORCE_SETS(phonon.get_displacement_dataset()) # write forces & displacements to FORCE_SET\n",
    "force_set=PhonIO.parse_FORCE_SETS() # parse force_sets\n",
    "phonon.set_displacement_dataset(force_set) # force_set is a list of forces and displacements"
   ]
  },
  {
   "cell_type": "code",
   "execution_count": 4,
   "metadata": {},
   "outputs": [],
   "source": [
    "if NAC == True:\n",
    "    nac_params = PhonIO.get_born_parameters(\n",
    "            open(\"BORN\"),\n",
    "            phonon.get_primitive(),\n",
    "            phonon.get_primitive_symmetry())\n",
    "    if nac_params['factor'] == None:\n",
    "        physical_units = get_default_physical_units(interface_mode)\n",
    "        nac_params['factor'] = physical_units['nac_factor']\n",
    "    phonon.set_nac_params(nac_params=nac_params)"
   ]
  },
  {
   "cell_type": "code",
   "execution_count": 5,
   "metadata": {},
   "outputs": [],
   "source": [
    "phonon.produce_force_constants()\n",
    "phonon.symmetrize_force_constants()\n",
    "PhonIO.write_FORCE_CONSTANTS(phonon.get_force_constants(), filename='FORCE_CONSTANTS1_2ND')"
   ]
  },
  {
   "cell_type": "code",
   "execution_count": 6,
   "metadata": {},
   "outputs": [],
   "source": [
    "# calc and plot bandstructure\n",
    "bands=api_qpv.qpoints_Band_paths(Qpoints,Band_points)\n",
    "phonon.set_band_structure(bands,is_eigenvectors=True)\n",
    "phonon.write_yaml_band_structure()\n",
    "bs_plt=phonon.plot_band_structure(band_labels)\n",
    "bs_plt.xlabel(\"\")\n",
    "bs_plt.ylabel(\"Frequency (THz)\",fontsize=16)\n",
    "bs_plt.xticks(fontsize=16)\n",
    "bs_plt.yticks(fontsize=16)\n",
    "bs_plt.savefig(\"Bandstructure.png\",dpi=300,bbox_inches='tight')"
   ]
  },
  {
   "cell_type": "code",
   "execution_count": null,
   "metadata": {},
   "outputs": [],
   "source": []
  }
 ],
 "metadata": {
  "kernelspec": {
   "display_name": "Python 2",
   "language": "python",
   "name": "python2"
  },
  "language_info": {
   "codemirror_mode": {
    "name": "ipython",
    "version": 2
   },
   "file_extension": ".py",
   "mimetype": "text/x-python",
   "name": "python",
   "nbconvert_exporter": "python",
   "pygments_lexer": "ipython2",
   "version": "2.7.12"
  }
 },
 "nbformat": 4,
 "nbformat_minor": 2
}
