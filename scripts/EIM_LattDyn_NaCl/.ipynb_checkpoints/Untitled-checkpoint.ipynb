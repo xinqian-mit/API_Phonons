{
 "cells": [
  {
   "cell_type": "code",
   "execution_count": 1,
   "metadata": {},
   "outputs": [],
   "source": [
    "import numpy as np\n",
    "import API_quippy_thirdorder as FC3\n",
    "import thirdorder_core\n",
    "import thirdorder_common\n",
    "from phonopy import Phonopy\n",
    "import phonopy.interface.vasp as Intf_vasp\n",
    "from phonopy.structure.atoms import PhonopyAtoms\n",
    "import phonopy.file_IO as PhonIO\n",
    "import API_quippy_phonopy_VASP as api_qpv # remember to set this module to python path\n",
    "import os, glob\n",
    "import os.path\n",
    "import shutil\n",
    "import sys\n",
    "import API_phonopy_lammps as api_pl"
   ]
  },
  {
   "cell_type": "code",
   "execution_count": 2,
   "metadata": {},
   "outputs": [],
   "source": [
    "Nrepeat = [3,3,3]\n",
    "nneigh = 4\n",
    "cmds = [\"pair_style eim\",\"pair_coeff * * Na Cl ffield.eim Na Cl\"]"
   ]
  },
  {
   "cell_type": "code",
   "execution_count": 3,
   "metadata": {},
   "outputs": [],
   "source": [
    "poscar = FC3.read_POSCAR(\".\")\n",
    "natoms = len(poscar[\"types\"])\n",
    "symops = thirdorder_core.SymmetryOperations(poscar[\"lattvec\"], poscar[\"types\"], poscar[\"positions\"].T, 1e-5) # symops is an obj.\n",
    "sposcar = FC3.gen_SPOSCAR(poscar, Nrepeat[0], Nrepeat[1], Nrepeat[2])\n",
    "ntot = natoms * np.prod(Nrepeat)\n",
    "dmin, nequi, shifts = FC3.calc_dists(sposcar)\n",
    "frange = FC3.calc_frange(poscar, sposcar, nneigh, dmin)"
   ]
  },
  {
   "cell_type": "code",
   "execution_count": 4,
   "metadata": {},
   "outputs": [],
   "source": [
    "wedge = thirdorder_core.Wedge(poscar, sposcar, symops, dmin, nequi, shifts,frange)\n",
    "list4 = wedge.build_list4()\n",
    "nirred = len(list4)\n",
    "nruns = 4 * nirred\n",
    "width = len(str(4 * (len(list4) + 1)))\n",
    "namepattern = \"3RD.POSCAR.{{0:0{0}d}}\".format(width)\n"
   ]
  },
  {
   "cell_type": "code",
   "execution_count": 5,
   "metadata": {},
   "outputs": [
    {
     "ename": "IndexError",
     "evalue": "index 27 is out of bounds for axis 0 with size 1",
     "output_type": "error",
     "traceback": [
      "\u001b[0;31m---------------------------------------------------------------------------\u001b[0m",
      "\u001b[0;31mIndexError\u001b[0m                                Traceback (most recent call last)",
      "\u001b[0;32m<ipython-input-5-726579915beb>\u001b[0m in \u001b[0;36m<module>\u001b[0;34m()\u001b[0m\n\u001b[1;32m     18\u001b[0m         \u001b[0mScell_ase\u001b[0m \u001b[0;34m=\u001b[0m \u001b[0mapi_qpv\u001b[0m\u001b[0;34m.\u001b[0m\u001b[0mphonopyAtoms_to_aseAtoms\u001b[0m\u001b[0;34m(\u001b[0m\u001b[0mScell\u001b[0m\u001b[0;34m)\u001b[0m\u001b[0;34m\u001b[0m\u001b[0m\n\u001b[1;32m     19\u001b[0m         \u001b[0mforce\u001b[0m \u001b[0;34m=\u001b[0m \u001b[0mnp\u001b[0m\u001b[0;34m.\u001b[0m\u001b[0marray\u001b[0m\u001b[0;34m(\u001b[0m\u001b[0mapi_pl\u001b[0m\u001b[0;34m.\u001b[0m\u001b[0mcalc_lmp_force_sets\u001b[0m\u001b[0;34m(\u001b[0m\u001b[0mcmds\u001b[0m\u001b[0;34m,\u001b[0m\u001b[0mScell_ase\u001b[0m\u001b[0;34m)\u001b[0m\u001b[0;34m)\u001b[0m\u001b[0;34m\u001b[0m\u001b[0m\n\u001b[0;32m---> 20\u001b[0;31m         \u001b[0mphipart\u001b[0m\u001b[0;34m[\u001b[0m\u001b[0;34m:\u001b[0m\u001b[0;34m,\u001b[0m \u001b[0mi\u001b[0m\u001b[0;34m,\u001b[0m \u001b[0;34m:\u001b[0m\u001b[0;34m]\u001b[0m \u001b[0;34m-=\u001b[0m \u001b[0misign\u001b[0m \u001b[0;34m*\u001b[0m \u001b[0mjsign\u001b[0m \u001b[0;34m*\u001b[0m \u001b[0mforce\u001b[0m\u001b[0;34m[\u001b[0m\u001b[0mp\u001b[0m\u001b[0;34m,\u001b[0m \u001b[0;34m:\u001b[0m\u001b[0;34m]\u001b[0m\u001b[0;34m.\u001b[0m\u001b[0mT\u001b[0m\u001b[0;34m\u001b[0m\u001b[0m\n\u001b[0m\u001b[1;32m     21\u001b[0m \u001b[0;34m\u001b[0m\u001b[0m\n\u001b[1;32m     22\u001b[0m \u001b[0mphipart\u001b[0m \u001b[0;34m/=\u001b[0m \u001b[0;34m(\u001b[0m\u001b[0;36m400.\u001b[0m \u001b[0;34m*\u001b[0m \u001b[0mthirdorder_common\u001b[0m\u001b[0;34m.\u001b[0m\u001b[0mH\u001b[0m \u001b[0;34m*\u001b[0m \u001b[0mthirdorder_common\u001b[0m\u001b[0;34m.\u001b[0m\u001b[0mH\u001b[0m\u001b[0;34m)\u001b[0m\u001b[0;34m\u001b[0m\u001b[0m\n",
      "\u001b[0;31mIndexError\u001b[0m: index 27 is out of bounds for axis 0 with size 1"
     ]
    }
   ],
   "source": [
    "Scells = []\n",
    "phipart = np.zeros((3, nirred, ntot))\n",
    "p = FC3.build_unpermutation(sposcar)\n",
    "for i, e in enumerate(list4):\n",
    "    for n in xrange(4): \n",
    "        isign = (-1)**(n // 2)\n",
    "        jsign = -(-1)**(n % 2)\n",
    "        # Start numbering the files at 1 for aesthetic\n",
    "        # reasons.\n",
    "        number = nirred * n + i + 1 # the number doesn't follow the order of 1,2,3,... \n",
    "        dsposcar = FC3.normalize_SPOSCAR(FC3.move_two_atoms(sposcar, e[1], e[3], isign * thirdorder_common.H, e[0], e[2], jsign * thirdorder_common.H))\n",
    "        filename = namepattern.format(number)\n",
    "        FC3.write_POSCAR(dsposcar, filename)\n",
    "        Scell = Intf_vasp.read_vasp(filename)\n",
    "        Scells.append(Scell)\n",
    "        os.remove(filename)\n",
    "        #print number\n",
    "        Scell_ase = api_qpv.phonopyAtoms_to_aseAtoms(Scell)\n",
    "        force = np.array(api_pl.calc_lmp_force(cmds,Scell_ase))\n",
    "        phipart[:, i, :] -= isign * jsign * force[p, :].T   \n",
    "     \n",
    "phipart /= (400. * thirdorder_common.H * thirdorder_common.H)\n",
    "phifull = thirdorder_core.reconstruct_ifcs(phipart, wedge, list4,poscar, sposcar)\n",
    "thirdorder_common.write_ifcs(phifull, poscar, sposcar, dmin, nequi, shifts, frange,\"FORCE_CONSTANTS_3RD\")"
   ]
  },
  {
   "cell_type": "code",
   "execution_count": 6,
   "metadata": {},
   "outputs": [
    {
     "ename": "IndexError",
     "evalue": "index 27 is out of bounds for axis 0 with size 1",
     "output_type": "error",
     "traceback": [
      "\u001b[0;31m---------------------------------------------------------------------------\u001b[0m",
      "\u001b[0;31mIndexError\u001b[0m                                Traceback (most recent call last)",
      "\u001b[0;32m<ipython-input-6-e08a77ded5c9>\u001b[0m in \u001b[0;36m<module>\u001b[0;34m()\u001b[0m\n\u001b[0;32m----> 1\u001b[0;31m \u001b[0mforce\u001b[0m\u001b[0;34m[\u001b[0m\u001b[0mp\u001b[0m\u001b[0;34m,\u001b[0m \u001b[0;34m:\u001b[0m\u001b[0;34m]\u001b[0m\u001b[0;34m.\u001b[0m\u001b[0mT\u001b[0m\u001b[0;34m\u001b[0m\u001b[0m\n\u001b[0m",
      "\u001b[0;31mIndexError\u001b[0m: index 27 is out of bounds for axis 0 with size 1"
     ]
    }
   ],
   "source": [
    "force[p, :].T   "
   ]
  },
  {
   "cell_type": "code",
   "execution_count": 7,
   "metadata": {},
   "outputs": [
    {
     "data": {
      "text/plain": [
       "array([[[-3.58824082e-13, -6.60867954e-02,  6.60993195e-02],\n",
       "        [-1.06047726e-05, -4.06464224e-06,  8.08077167e-06],\n",
       "        [ 1.06047542e-05, -4.06464169e-06,  8.08077207e-06],\n",
       "        [ 1.85201707e-03,  3.21137075e-03,  8.95708311e-06],\n",
       "        [-4.17301610e-12, -2.50375391e-05, -2.30430590e-05],\n",
       "        [-1.85201708e-03,  3.21137075e-03,  8.95708601e-06],\n",
       "        [ 1.81155824e-03,  3.15982156e-03, -9.57957946e-06],\n",
       "        [-1.81155825e-03,  3.15982157e-03, -9.57957696e-06],\n",
       "        [-4.95874170e-12, -2.49425041e-05, -2.28948152e-05],\n",
       "        [-1.10889543e-03, -6.41035862e-04, -1.83056760e-03],\n",
       "        [-4.17988907e-12,  3.26755948e-05,  4.55821139e-06],\n",
       "        [ 1.10889542e-03, -6.41035858e-04, -1.83056760e-03],\n",
       "        [-5.51849286e-06, -2.17855815e-05,  2.72614507e-05],\n",
       "        [ 5.51849576e-06, -2.17855780e-05,  2.72614532e-05],\n",
       "        [-8.49860113e-13, -1.74965690e-04, -2.32479308e-04],\n",
       "        [ 3.01136893e-12,  3.36081764e-03, -4.74453953e-03],\n",
       "        [ 8.49629201e-04, -4.29687050e-04,  6.32872822e-04],\n",
       "        [-8.49629201e-04, -4.29687049e-04,  6.32872822e-04],\n",
       "        [-1.11721334e-03, -6.57137923e-04, -1.83286007e-03],\n",
       "        [ 1.11721334e-03, -6.57137920e-04, -1.83286007e-03],\n",
       "        [-4.93196369e-12,  3.27491628e-05,  4.62073915e-06],\n",
       "        [ 3.01059178e-12,  3.47170754e-03, -4.91371945e-03],\n",
       "        [-8.62954393e-04, -4.32740800e-04,  6.39113249e-04],\n",
       "        [ 8.62954393e-04, -4.32740799e-04,  6.39113249e-04],\n",
       "        [-5.29439013e-06, -2.19507718e-05,  2.71323788e-05],\n",
       "        [ 3.52719590e-13, -1.78572034e-04, -2.33107589e-04],\n",
       "        [ 5.29439274e-06, -2.19507677e-05,  2.71323816e-05],\n",
       "        [-1.55919805e-05,  2.85841383e-06, -1.83621762e-05],\n",
       "        [ 1.55919817e-05,  2.85841583e-06, -1.83621748e-05],\n",
       "        [-6.16448559e-12,  6.02556788e-03,  1.64267938e-05],\n",
       "        [ 2.61501931e-12, -1.56891168e-04,  4.78246126e-05],\n",
       "        [-3.34308361e-05,  4.11231441e-05,  1.48620906e-05],\n",
       "        [ 3.34308301e-05,  4.11231490e-05,  1.48620941e-05],\n",
       "        [-1.21266933e-02,  9.56369826e-03, -1.24637522e-02],\n",
       "        [ 4.06219806e-12, -1.41829925e-05,  1.36455473e-05],\n",
       "        [ 1.21266933e-02,  9.56369826e-03, -1.24637522e-02],\n",
       "        [ 2.62040389e-12,  1.20157933e-05,  1.30134948e-04],\n",
       "        [ 2.09709492e-05, -2.62781855e-05, -1.70501378e-05],\n",
       "        [-2.09709553e-05, -2.62781806e-05, -1.70501343e-05],\n",
       "        [ 8.56333931e-08,  4.56044493e-05, -7.10243551e-05],\n",
       "        [-2.86433204e-14,  2.61815765e-05, -2.61817282e-05],\n",
       "        [-8.56353994e-08,  4.56044563e-05, -7.10243502e-05],\n",
       "        [-2.08182517e-05, -2.58297075e-05, -1.71512357e-05],\n",
       "        [ 2.08182639e-05, -2.58297055e-05, -1.71512343e-05],\n",
       "        [-5.79147841e-13,  1.18729421e-05,  1.28780876e-04],\n",
       "        [ 1.32469884e-02,  1.00834053e-02, -1.32513737e-02],\n",
       "        [ 4.03742881e-12, -1.44911607e-05,  1.38450792e-05],\n",
       "        [-1.32469884e-02,  1.00834053e-02, -1.32513737e-02],\n",
       "        [ 3.35491659e-05,  4.11971800e-05,  1.51384296e-05],\n",
       "        [-3.35491536e-05,  4.11971820e-05,  1.51384310e-05],\n",
       "        [-5.89639448e-13, -1.59481971e-04,  4.85851409e-05],\n",
       "        [ 1.20404797e-11,  6.07939906e-03,  1.90171992e-06],\n",
       "        [ 1.62891000e-05,  2.61804361e-06, -1.85361003e-05],\n",
       "        [-1.62890869e-05,  2.61804857e-06, -1.85360968e-05]]])"
      ]
     },
     "execution_count": 7,
     "metadata": {},
     "output_type": "execute_result"
    }
   ],
   "source": [
    "force"
   ]
  },
  {
   "cell_type": "code",
   "execution_count": null,
   "metadata": {},
   "outputs": [],
   "source": []
  }
 ],
 "metadata": {
  "kernelspec": {
   "display_name": "Python 2",
   "language": "python",
   "name": "python2"
  },
  "language_info": {
   "codemirror_mode": {
    "name": "ipython",
    "version": 2
   },
   "file_extension": ".py",
   "mimetype": "text/x-python",
   "name": "python",
   "nbconvert_exporter": "python",
   "pygments_lexer": "ipython2",
   "version": "2.7.12"
  }
 },
 "nbformat": 4,
 "nbformat_minor": 2
}
