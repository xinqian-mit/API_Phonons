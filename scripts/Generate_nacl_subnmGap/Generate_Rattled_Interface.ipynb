{
 "cells": [
  {
   "cell_type": "code",
   "execution_count": 1,
   "metadata": {},
   "outputs": [],
   "source": [
    "from ase.spacegroup import crystal\n",
    "from ase.visualize import view\n",
    "from ase.io import write\n",
    "import ase.build\n",
    "import numpy as np\n",
    "from phonopy.structure.atoms import PhonopyAtoms\n",
    "import API_quippy_phonopy_VASP as api_qpv\n",
    "import API_phonopy_lammps as api_plmp\n",
    "from phonopy import Phonopy\n",
    "import phonopy.file_IO as PhonIO\n",
    "from phonopy.interface.calculator import get_default_physical_units\n",
    "import copy as cp\n",
    "from joblib import Parallel, delayed\n",
    "import multiprocessing as mp\n",
    "import phonopy.interface.vasp as phonVasp\n"
   ]
  },
  {
   "cell_type": "code",
   "execution_count": 2,
   "metadata": {},
   "outputs": [],
   "source": [
    "# Specify the slab cut and layers\n",
    "NAC = True # non-analytical correction for LO-TO splitting\n",
    "#gp_xml_file = '../Dielectric_function_NaCl/soap_n12l11_6.0cut_coul/gp_NaCl_soap_coul.xml'\n",
    "gp_xml_file = '/home/proteus/Softwares/Pot_NaCl/gp_NaCl_soap_coul.xml'\n",
    "a = 5.65414946767 # lattice constant of NaCl\n",
    "\n",
    "Temp_rattle = [300.,300]\n",
    "Nsnaps = 1 #50000 # Number of snapshots\n",
    "nacl = crystal(['Na', 'Cl'], [(0, 0, 0), (0.5, 0.5, 0.5)], spacegroup=225,\n",
    "               cellpar=[a, a, a, 90, 90, 90])\n",
    "\n",
    "\n",
    "d0 = a/2.0;\n",
    "d_gap = 6  # Angstrom, distance of the gap\n",
    "d_vac = 50\n",
    "Stacking_Period = 2 # Period of stacking. In (111) stacking, the layer # is 6. In (110) stacking, the layer # is 4\n",
    "Nrepeat = (2,3,4) # for lattice dynamics on the unit cell.\n",
    "\n",
    "#Cutvec_a = (1,-1,0); Cutvec_b = (1,1,-2) # cut in (111) direction, Period of stacking in (111) is 6 layer\n",
    "Cutvec_a = (1,-1,0); Cutvec_b = (0,0,1) # cut in (110) direction\n",
    "facedir = np.abs(np.cross(np.array(Cutvec_a),np.array(Cutvec_b)))\n",
    "facestr = str(facedir[0])+str(facedir[1])+str(facedir[2])"
   ]
  },
  {
   "cell_type": "code",
   "execution_count": 3,
   "metadata": {},
   "outputs": [
    {
     "name": "stdout",
     "output_type": "stream",
     "text": [
      "Number of atoms in the stacking unit cell: 8\n",
      "Optimization terminated successfully.\n",
      "         Current function value: 0.000000\n",
      "         Iterations: 225\n",
      "         Function evaluations: 355\n"
     ]
    }
   ],
   "source": [
    "uc_slab = ase.build.cut(nacl, a=Cutvec_a, b=Cutvec_b,nlayers=Stacking_Period)\n",
    "print('Number of atoms in the stacking unit cell: '+ str(uc_slab.get_global_number_of_atoms()))\n",
    "\n",
    "# Generate interface\n",
    "slab = uc_slab.repeat(Nrepeat)\n",
    "Interface0 = ase.build.stack(slab,slab,maxstrain=100,distance=d_gap+d0)\n",
    "Slab_vecs = slab.get_cell()\n",
    "Thick_slab = np.linalg.norm(Slab_vecs[2,:])\n",
    "ase.build.rotate(Interface0, Slab_vecs[0,:],[1,0,0], Slab_vecs[1,:], [0,1,0], rotate_cell=True)\n",
    "#Interface0.translate([0,0,d_gap/2.])\n",
    "Interface0.set_velocities(np.zeros(3))\n",
    "Interface0.center(vacuum=d_vac,axis=2)"
   ]
  },
  {
   "cell_type": "code",
   "execution_count": 4,
   "metadata": {},
   "outputs": [
    {
     "name": "stderr",
     "output_type": "stream",
     "text": [
      "/home/proteus/.local/lib/python3.8/site-packages/ase/atoms.py:971: VisibleDeprecationWarning: Use get_global_number_of_atoms() instead\n",
      "  warnings.warn('Use get_global_number_of_atoms() instead',\n"
     ]
    }
   ],
   "source": [
    "# set mol ID for two slabs.\n",
    "molID = np.zeros(Interface0.get_global_number_of_atoms(),dtype=int)\n",
    "molID[0:slab.get_global_number_of_atoms()] = 1\n",
    "molID[slab.get_global_number_of_atoms():Interface0.get_global_number_of_atoms()] = 2\n",
    "#view(Interface0)\n",
    "ase.io.write('Interface0_'+facestr+'_'+str(d_gap)+'A.cif',Interface0,'cif')\n",
    "\n",
    "Interface0.set_pbc([True,True,False])\n",
    "lmp_Data_filename = 'Interface0_'+facestr+'_'+str(d_gap)+'A.data'\n",
    "api_plmp.write_lmp_data(lmp_Data_filename,Interface0,molID)\n",
    "phonVasp.write_vasp('Interface0_'+facestr+'_'+str(d_gap)+'A.POSCAR',Interface0)"
   ]
  },
  {
   "cell_type": "code",
   "execution_count": 6,
   "metadata": {},
   "outputs": [
    {
     "name": "stdout",
     "output_type": "stream",
     "text": [
      "Supercell used for Lattice Dynamics: (2, 3, 4)\n",
      "Number of atoms in the slab: 192\n",
      "Number of Supercell calculations: 2\n"
     ]
    },
    {
     "ename": "KeyboardInterrupt",
     "evalue": "",
     "output_type": "error",
     "traceback": [
      "\u001b[0;31m---------------------------------------------------------------------------\u001b[0m",
      "\u001b[0;31mKeyboardInterrupt\u001b[0m                         Traceback (most recent call last)",
      "\u001b[0;32m<ipython-input-6-fd32dfa5b2bd>\u001b[0m in \u001b[0;36m<module>\u001b[0;34m\u001b[0m\n\u001b[1;32m     14\u001b[0m     \u001b[0mprint\u001b[0m\u001b[0;34m(\u001b[0m\u001b[0;34m'Number of Supercell calculations: '\u001b[0m\u001b[0;34m+\u001b[0m\u001b[0mstr\u001b[0m\u001b[0;34m(\u001b[0m\u001b[0mlen\u001b[0m\u001b[0;34m(\u001b[0m\u001b[0mScell_disps\u001b[0m\u001b[0;34m)\u001b[0m\u001b[0;34m)\u001b[0m\u001b[0;34m)\u001b[0m\u001b[0;34m\u001b[0m\u001b[0;34m\u001b[0m\u001b[0m\n\u001b[1;32m     15\u001b[0m     \u001b[0;31m# Calculate forces\u001b[0m\u001b[0;34m\u001b[0m\u001b[0;34m\u001b[0m\u001b[0;34m\u001b[0m\u001b[0m\n\u001b[0;32m---> 16\u001b[0;31m     \u001b[0mforce_quip\u001b[0m \u001b[0;34m=\u001b[0m \u001b[0mapi_qpv\u001b[0m\u001b[0;34m.\u001b[0m\u001b[0mParallel_calc_force_sets_GAP\u001b[0m\u001b[0;34m(\u001b[0m\u001b[0mgp_xml_file\u001b[0m\u001b[0;34m,\u001b[0m\u001b[0mScell_disps_quip\u001b[0m\u001b[0;34m)\u001b[0m\u001b[0;34m\u001b[0m\u001b[0;34m\u001b[0m\u001b[0m\n\u001b[0m\u001b[1;32m     17\u001b[0m     \u001b[0mphonon\u001b[0m\u001b[0;34m.\u001b[0m\u001b[0mset_forces\u001b[0m\u001b[0;34m(\u001b[0m\u001b[0mforce_quip\u001b[0m\u001b[0;34m)\u001b[0m\u001b[0;34m\u001b[0m\u001b[0;34m\u001b[0m\u001b[0m\n\u001b[1;32m     18\u001b[0m     \u001b[0mPhonIO\u001b[0m\u001b[0;34m.\u001b[0m\u001b[0mwrite_FORCE_SETS\u001b[0m\u001b[0;34m(\u001b[0m\u001b[0mphonon\u001b[0m\u001b[0;34m.\u001b[0m\u001b[0mget_displacement_dataset\u001b[0m\u001b[0;34m(\u001b[0m\u001b[0;34m)\u001b[0m\u001b[0;34m)\u001b[0m \u001b[0;31m# write forces & displacements to FORCE_SET\u001b[0m\u001b[0;34m\u001b[0m\u001b[0;34m\u001b[0m\u001b[0m\n",
      "\u001b[0;32m~/Softwares/quippy_phonopy/API_quippy_phonopy_VASP.py\u001b[0m in \u001b[0;36mParallel_calc_force_sets_GAP\u001b[0;34m(gp_xml_file, Scell_quippy)\u001b[0m\n\u001b[1;32m    113\u001b[0m     \u001b[0;31m#force_gap_scells=[]\u001b[0m\u001b[0;34m\u001b[0m\u001b[0;34m\u001b[0m\u001b[0;34m\u001b[0m\u001b[0m\n\u001b[1;32m    114\u001b[0m     \u001b[0;31m#force_gap_scells = [pool.apply(calc_force_GAP, args=(gp_xml_file,scell)) for scell in Scell_quippy]\u001b[0m\u001b[0;34m\u001b[0m\u001b[0;34m\u001b[0m\u001b[0;34m\u001b[0m\u001b[0m\n\u001b[0;32m--> 115\u001b[0;31m     \u001b[0mforce_gap_scells\u001b[0m \u001b[0;34m=\u001b[0m \u001b[0mParallel\u001b[0m\u001b[0;34m(\u001b[0m\u001b[0mn_jobs\u001b[0m\u001b[0;34m=\u001b[0m\u001b[0mmp\u001b[0m\u001b[0;34m.\u001b[0m\u001b[0mcpu_count\u001b[0m\u001b[0;34m(\u001b[0m\u001b[0;34m)\u001b[0m\u001b[0;34m)\u001b[0m\u001b[0;34m(\u001b[0m\u001b[0mdelayed\u001b[0m\u001b[0;34m(\u001b[0m\u001b[0mcalc_force_GAP\u001b[0m\u001b[0;34m)\u001b[0m\u001b[0;34m(\u001b[0m\u001b[0mgp_xml_file\u001b[0m\u001b[0;34m,\u001b[0m\u001b[0mscell\u001b[0m\u001b[0;34m)\u001b[0m \u001b[0;32mfor\u001b[0m \u001b[0mscell\u001b[0m \u001b[0;32min\u001b[0m \u001b[0mScell_quippy\u001b[0m\u001b[0;34m)\u001b[0m\u001b[0;34m\u001b[0m\u001b[0;34m\u001b[0m\u001b[0m\n\u001b[0m\u001b[1;32m    116\u001b[0m     \u001b[0;32mreturn\u001b[0m \u001b[0mforce_gap_scells\u001b[0m\u001b[0;34m\u001b[0m\u001b[0;34m\u001b[0m\u001b[0m\n\u001b[1;32m    117\u001b[0m \u001b[0;34m\u001b[0m\u001b[0m\n",
      "\u001b[0;32m~/.local/lib/python3.8/site-packages/joblib/parallel.py\u001b[0m in \u001b[0;36m__call__\u001b[0;34m(self, iterable)\u001b[0m\n\u001b[1;32m   1040\u001b[0m \u001b[0;34m\u001b[0m\u001b[0m\n\u001b[1;32m   1041\u001b[0m             \u001b[0;32mwith\u001b[0m \u001b[0mself\u001b[0m\u001b[0;34m.\u001b[0m\u001b[0m_backend\u001b[0m\u001b[0;34m.\u001b[0m\u001b[0mretrieval_context\u001b[0m\u001b[0;34m(\u001b[0m\u001b[0;34m)\u001b[0m\u001b[0;34m:\u001b[0m\u001b[0;34m\u001b[0m\u001b[0;34m\u001b[0m\u001b[0m\n\u001b[0;32m-> 1042\u001b[0;31m                 \u001b[0mself\u001b[0m\u001b[0;34m.\u001b[0m\u001b[0mretrieve\u001b[0m\u001b[0;34m(\u001b[0m\u001b[0;34m)\u001b[0m\u001b[0;34m\u001b[0m\u001b[0;34m\u001b[0m\u001b[0m\n\u001b[0m\u001b[1;32m   1043\u001b[0m             \u001b[0;31m# Make sure that we get a last message telling us we are done\u001b[0m\u001b[0;34m\u001b[0m\u001b[0;34m\u001b[0m\u001b[0;34m\u001b[0m\u001b[0m\n\u001b[1;32m   1044\u001b[0m             \u001b[0melapsed_time\u001b[0m \u001b[0;34m=\u001b[0m \u001b[0mtime\u001b[0m\u001b[0;34m.\u001b[0m\u001b[0mtime\u001b[0m\u001b[0;34m(\u001b[0m\u001b[0;34m)\u001b[0m \u001b[0;34m-\u001b[0m \u001b[0mself\u001b[0m\u001b[0;34m.\u001b[0m\u001b[0m_start_time\u001b[0m\u001b[0;34m\u001b[0m\u001b[0;34m\u001b[0m\u001b[0m\n",
      "\u001b[0;32m~/.local/lib/python3.8/site-packages/joblib/parallel.py\u001b[0m in \u001b[0;36mretrieve\u001b[0;34m(self)\u001b[0m\n\u001b[1;32m    919\u001b[0m             \u001b[0;32mtry\u001b[0m\u001b[0;34m:\u001b[0m\u001b[0;34m\u001b[0m\u001b[0;34m\u001b[0m\u001b[0m\n\u001b[1;32m    920\u001b[0m                 \u001b[0;32mif\u001b[0m \u001b[0mgetattr\u001b[0m\u001b[0;34m(\u001b[0m\u001b[0mself\u001b[0m\u001b[0;34m.\u001b[0m\u001b[0m_backend\u001b[0m\u001b[0;34m,\u001b[0m \u001b[0;34m'supports_timeout'\u001b[0m\u001b[0;34m,\u001b[0m \u001b[0;32mFalse\u001b[0m\u001b[0;34m)\u001b[0m\u001b[0;34m:\u001b[0m\u001b[0;34m\u001b[0m\u001b[0;34m\u001b[0m\u001b[0m\n\u001b[0;32m--> 921\u001b[0;31m                     \u001b[0mself\u001b[0m\u001b[0;34m.\u001b[0m\u001b[0m_output\u001b[0m\u001b[0;34m.\u001b[0m\u001b[0mextend\u001b[0m\u001b[0;34m(\u001b[0m\u001b[0mjob\u001b[0m\u001b[0;34m.\u001b[0m\u001b[0mget\u001b[0m\u001b[0;34m(\u001b[0m\u001b[0mtimeout\u001b[0m\u001b[0;34m=\u001b[0m\u001b[0mself\u001b[0m\u001b[0;34m.\u001b[0m\u001b[0mtimeout\u001b[0m\u001b[0;34m)\u001b[0m\u001b[0;34m)\u001b[0m\u001b[0;34m\u001b[0m\u001b[0;34m\u001b[0m\u001b[0m\n\u001b[0m\u001b[1;32m    922\u001b[0m                 \u001b[0;32melse\u001b[0m\u001b[0;34m:\u001b[0m\u001b[0;34m\u001b[0m\u001b[0;34m\u001b[0m\u001b[0m\n\u001b[1;32m    923\u001b[0m                     \u001b[0mself\u001b[0m\u001b[0;34m.\u001b[0m\u001b[0m_output\u001b[0m\u001b[0;34m.\u001b[0m\u001b[0mextend\u001b[0m\u001b[0;34m(\u001b[0m\u001b[0mjob\u001b[0m\u001b[0;34m.\u001b[0m\u001b[0mget\u001b[0m\u001b[0;34m(\u001b[0m\u001b[0;34m)\u001b[0m\u001b[0;34m)\u001b[0m\u001b[0;34m\u001b[0m\u001b[0;34m\u001b[0m\u001b[0m\n",
      "\u001b[0;32m~/.local/lib/python3.8/site-packages/joblib/_parallel_backends.py\u001b[0m in \u001b[0;36mwrap_future_result\u001b[0;34m(future, timeout)\u001b[0m\n\u001b[1;32m    540\u001b[0m         AsyncResults.get from multiprocessing.\"\"\"\n\u001b[1;32m    541\u001b[0m         \u001b[0;32mtry\u001b[0m\u001b[0;34m:\u001b[0m\u001b[0;34m\u001b[0m\u001b[0;34m\u001b[0m\u001b[0m\n\u001b[0;32m--> 542\u001b[0;31m             \u001b[0;32mreturn\u001b[0m \u001b[0mfuture\u001b[0m\u001b[0;34m.\u001b[0m\u001b[0mresult\u001b[0m\u001b[0;34m(\u001b[0m\u001b[0mtimeout\u001b[0m\u001b[0;34m=\u001b[0m\u001b[0mtimeout\u001b[0m\u001b[0;34m)\u001b[0m\u001b[0;34m\u001b[0m\u001b[0;34m\u001b[0m\u001b[0m\n\u001b[0m\u001b[1;32m    543\u001b[0m         \u001b[0;32mexcept\u001b[0m \u001b[0mCfTimeoutError\u001b[0m \u001b[0;32mas\u001b[0m \u001b[0me\u001b[0m\u001b[0;34m:\u001b[0m\u001b[0;34m\u001b[0m\u001b[0;34m\u001b[0m\u001b[0m\n\u001b[1;32m    544\u001b[0m             \u001b[0;32mraise\u001b[0m \u001b[0mTimeoutError\u001b[0m \u001b[0;32mfrom\u001b[0m \u001b[0me\u001b[0m\u001b[0;34m\u001b[0m\u001b[0;34m\u001b[0m\u001b[0m\n",
      "\u001b[0;32m/usr/lib/python3.8/concurrent/futures/_base.py\u001b[0m in \u001b[0;36mresult\u001b[0;34m(self, timeout)\u001b[0m\n\u001b[1;32m    432\u001b[0m                 \u001b[0;32mreturn\u001b[0m \u001b[0mself\u001b[0m\u001b[0;34m.\u001b[0m\u001b[0m__get_result\u001b[0m\u001b[0;34m(\u001b[0m\u001b[0;34m)\u001b[0m\u001b[0;34m\u001b[0m\u001b[0;34m\u001b[0m\u001b[0m\n\u001b[1;32m    433\u001b[0m \u001b[0;34m\u001b[0m\u001b[0m\n\u001b[0;32m--> 434\u001b[0;31m             \u001b[0mself\u001b[0m\u001b[0;34m.\u001b[0m\u001b[0m_condition\u001b[0m\u001b[0;34m.\u001b[0m\u001b[0mwait\u001b[0m\u001b[0;34m(\u001b[0m\u001b[0mtimeout\u001b[0m\u001b[0;34m)\u001b[0m\u001b[0;34m\u001b[0m\u001b[0;34m\u001b[0m\u001b[0m\n\u001b[0m\u001b[1;32m    435\u001b[0m \u001b[0;34m\u001b[0m\u001b[0m\n\u001b[1;32m    436\u001b[0m             \u001b[0;32mif\u001b[0m \u001b[0mself\u001b[0m\u001b[0;34m.\u001b[0m\u001b[0m_state\u001b[0m \u001b[0;32min\u001b[0m \u001b[0;34m[\u001b[0m\u001b[0mCANCELLED\u001b[0m\u001b[0;34m,\u001b[0m \u001b[0mCANCELLED_AND_NOTIFIED\u001b[0m\u001b[0;34m]\u001b[0m\u001b[0;34m:\u001b[0m\u001b[0;34m\u001b[0m\u001b[0;34m\u001b[0m\u001b[0m\n",
      "\u001b[0;32m/usr/lib/python3.8/threading.py\u001b[0m in \u001b[0;36mwait\u001b[0;34m(self, timeout)\u001b[0m\n\u001b[1;32m    300\u001b[0m         \u001b[0;32mtry\u001b[0m\u001b[0;34m:\u001b[0m    \u001b[0;31m# restore state no matter what (e.g., KeyboardInterrupt)\u001b[0m\u001b[0;34m\u001b[0m\u001b[0;34m\u001b[0m\u001b[0m\n\u001b[1;32m    301\u001b[0m             \u001b[0;32mif\u001b[0m \u001b[0mtimeout\u001b[0m \u001b[0;32mis\u001b[0m \u001b[0;32mNone\u001b[0m\u001b[0;34m:\u001b[0m\u001b[0;34m\u001b[0m\u001b[0;34m\u001b[0m\u001b[0m\n\u001b[0;32m--> 302\u001b[0;31m                 \u001b[0mwaiter\u001b[0m\u001b[0;34m.\u001b[0m\u001b[0macquire\u001b[0m\u001b[0;34m(\u001b[0m\u001b[0;34m)\u001b[0m\u001b[0;34m\u001b[0m\u001b[0;34m\u001b[0m\u001b[0m\n\u001b[0m\u001b[1;32m    303\u001b[0m                 \u001b[0mgotit\u001b[0m \u001b[0;34m=\u001b[0m \u001b[0;32mTrue\u001b[0m\u001b[0;34m\u001b[0m\u001b[0;34m\u001b[0m\u001b[0m\n\u001b[1;32m    304\u001b[0m             \u001b[0;32melse\u001b[0m\u001b[0;34m:\u001b[0m\u001b[0;34m\u001b[0m\u001b[0;34m\u001b[0m\u001b[0m\n",
      "\u001b[0;31mKeyboardInterrupt\u001b[0m: "
     ]
    }
   ],
   "source": [
    "if Nsnaps > 0:\n",
    "\n",
    "    slab_ph = api_qpv.aseAtoms_to_phonopyAtoms(slab)\n",
    "\n",
    "    phonon = Phonopy(slab_ph,np.eye(3)) # do the Gamma point calculation of the unit prim cell\n",
    "    phonon.generate_displacements(distance=0.01) # perturbate the supcercell to obtain eigenvectors.\n",
    "    Scell_disps = phonon.get_supercells_with_displacements()\n",
    "    Scell_ph = phonon.get_supercell()\n",
    "    Scell_disps_quip = []\n",
    "    for scell in Scell_disps:\n",
    "        Scell_disps_quip.append(api_qpv.phonopyAtoms_to_aseAtoms(scell)) # pass the phonopy atom to ase object.\n",
    "    print('Supercell used for Lattice Dynamics: '+str(Nrepeat))\n",
    "    print('Number of atoms in the slab: '+str(Scell_ph.get_number_of_atoms()))\n",
    "    print('Number of Supercell calculations: '+str(len(Scell_disps)))\n",
    "    # Calculate forces\n",
    "    force_quip = api_qpv.Parallel_calc_force_sets_GAP(gp_xml_file,Scell_disps_quip)\n",
    "    phonon.set_forces(force_quip)\n",
    "    PhonIO.write_FORCE_SETS(phonon.get_displacement_dataset()) # write forces & displacements to FORCE_SET\n",
    "    force_set=PhonIO.parse_FORCE_SETS() # parse force_sets\n",
    "    phonon.set_displacement_dataset(force_set) # force_set is a list of forces and displacements\n",
    "    # Calculate force constants with or without NAC.\n",
    "    if NAC == True:\n",
    "        nac_params = PhonIO.get_born_parameters(\n",
    "                open(\"BORN\"),\n",
    "                phonon.get_primitive(),\n",
    "                phonon.get_primitive_symmetry())\n",
    "        if nac_params['factor'] == None:\n",
    "            physical_units = get_default_physical_units('vasp')\n",
    "            nac_params['factor'] = physical_units['nac_factor']\n",
    "        phonon._nac_params=nac_params\n",
    "    phonon.produce_force_constants()"
   ]
  },
  {
   "cell_type": "code",
   "execution_count": null,
   "metadata": {},
   "outputs": [],
   "source": [
    "# calculate at Gamma point\n",
    "bands=api_qpv.qpoints_Band_paths(np.array([[0.,0.,0.]]),1)\n",
    "phonon.set_band_structure(bands, is_eigenvectors=True)\n"
   ]
  },
  {
   "cell_type": "code",
   "execution_count": null,
   "metadata": {},
   "outputs": [],
   "source": [
    "u_disps1,v_disps1 = api_qpv.Parallel_thermo_dispVel_along_eig(phonon,Temp_rattle[0],Nsnaps) # rattle slab1\n",
    "u_disps2,v_disps2 = api_qpv.Parallel_thermo_dispVel_along_eig(phonon,Temp_rattle[1],Nsnaps) # rattle slab2"
   ]
  },
  {
   "cell_type": "code",
   "execution_count": null,
   "metadata": {},
   "outputs": [],
   "source": [
    "u_disps = np.concatenate((u_disps1,u_disps2),axis=1)\n",
    "v_disps = np.concatenate((v_disps1,v_disps2),axis=1)\n",
    "\n",
    "Interface_snaps = api_qpv.Generate_Supercells_with_Disps(Interface0,u_disps,v_disps)\n",
    "api_qpv.write_Supercells_VASP(Interface_snaps,'d_gap'+str(d_gap)+'A')"
   ]
  },
  {
   "cell_type": "code",
   "execution_count": null,
   "metadata": {},
   "outputs": [],
   "source": []
  }
 ],
 "metadata": {
  "kernelspec": {
   "display_name": "Python 3",
   "language": "python",
   "name": "python3"
  },
  "language_info": {
   "codemirror_mode": {
    "name": "ipython",
    "version": 3
   },
   "file_extension": ".py",
   "mimetype": "text/x-python",
   "name": "python",
   "nbconvert_exporter": "python",
   "pygments_lexer": "ipython3",
   "version": "3.8.2"
  }
 },
 "nbformat": 4,
 "nbformat_minor": 4
}
