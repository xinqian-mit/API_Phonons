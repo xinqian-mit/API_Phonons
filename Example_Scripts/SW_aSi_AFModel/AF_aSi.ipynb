{
 "cells": [
  {
   "cell_type": "code",
   "execution_count": 1,
   "id": "6bd5d2eb",
   "metadata": {},
   "outputs": [],
   "source": [
    "import matplotlib\n",
    "#matplotlib.use('agg') # This line is necessary for non-gui linux systems\n",
    "import matplotlib.pyplot as plt\n",
    "import numpy as np\n",
    "import phonopy\n",
    "from phonopy import Phonopy\n",
    "import phonopy.interface.vasp as Intf_vasp\n",
    "from phonopy.structure.atoms import PhonopyAtoms\n",
    "import phonopy.file_IO as PhonIO\n",
    "from phonopy.interface.calculator import get_default_physical_units\n",
    "import API_phonopy as api_ph\n",
    "import AllanFeldman as AF"
   ]
  },
  {
   "cell_type": "code",
   "execution_count": 2,
   "id": "1770b82d",
   "metadata": {},
   "outputs": [],
   "source": [
    "mesh = [1,1,1] # at only gamma point.\n",
    "T = 300\n",
    "Gamma = np.array([0,0,0])\n",
    "load_data = False\n",
    "broad_factor = 5.0\n",
    "phonon = phonopy.load(supercell_matrix=[1,1,1],primitive_matrix='auto',\n",
    "                     unitcell_filename=\"POSCAR_512_SWrelx\",\n",
    "                     force_constants_filename='FORCE_CONSTANTS') # load the force constants."
   ]
  },
  {
   "cell_type": "code",
   "execution_count": 3,
   "id": "aa4e4660",
   "metadata": {},
   "outputs": [],
   "source": [
    "Vx,Vy,Vz = AF.get_Va_ijbc(phonon)"
   ]
  },
  {
   "cell_type": "code",
   "execution_count": 4,
   "id": "037fe976",
   "metadata": {},
   "outputs": [],
   "source": [
    "if load_data == False:\n",
    "    \n",
    "    phonon.run_mesh(mesh, is_gamma_center=True, \n",
    "                with_eigenvectors=True,with_group_velocities=True,\n",
    "                is_mesh_symmetry=True) # get full mesh set to false\n",
    "    qpoints, weights, frequencies, eigvecs = phonon.get_mesh()\n",
    "    eigvecs = eigvecs[0] # at Gamma Point\n",
    "    freqs = frequencies[0]\n",
    "    LineWidth = np.mean(np.diff(frequencies[0]))\n",
    "\n",
    "\n",
    "    Cmodes = api_ph.mode_cv(T,freqs)\n",
    "\n",
    "    Vol = phonon.get_supercell().get_volume()*1e-30\n",
    "    \n",
    "    "
   ]
  },
  {
   "cell_type": "code",
   "execution_count": 5,
   "id": "249865af",
   "metadata": {},
   "outputs": [],
   "source": [
    "Vx_flat,Vy_flat,Vz_flat = AF.get_Va_ijbc(phonon)\n",
    "vx_modepairs,vy_modepairs,vz_modepairs = AF.get_velmat_modepairs(freqs,eigvecs,Vx_flat,Vy_flat,Vz_flat)\n",
    "Broadening = broad_factor*np.mean(np.diff(freqs))\n",
    "Diffusivities = AF.calc_Diff(freqs,vx_modepairs,vy_modepairs,vz_modepairs,LineWidth=Broadening)"
   ]
  },
  {
   "cell_type": "code",
   "execution_count": 14,
   "id": "01ba42f4",
   "metadata": {},
   "outputs": [
    {
     "data": {
      "text/plain": [
       "Text(0, 0.5, 'Diffusivity ($m^2$/s)')"
      ]
     },
     "execution_count": 14,
     "metadata": {},
     "output_type": "execute_result"
    },
    {
     "data": {
      "image/png": "[encoded data removed]",
      "text/plain": [
       "<Figure size 432x288 with 1 Axes>"
      ]
     },
     "metadata": {
      "needs_background": "light"
     },
     "output_type": "display_data"
    }
   ],
   "source": [
    "plt.semilogy(freqs[3:],Diffusivities[3:],'o')\n",
    "plt.xlabel('Frequency (THz)')\n",
    "plt.ylabel('Diffusivity ($m^2$/s)')"
   ]
  },
  {
   "cell_type": "code",
   "execution_count": 13,
   "id": "acd5622b",
   "metadata": {},
   "outputs": [
    {
     "name": "stdout",
     "output_type": "stream",
     "text": [
      "0.9051397497722315\n"
     ]
    }
   ],
   "source": [
    "k = np.sum(Cmodes[3:]*Diffusivities[3:]/Vol)\n",
    "print(k)"
   ]
  },
  {
   "cell_type": "code",
   "execution_count": null,
   "id": "1cbf3b55",
   "metadata": {},
   "outputs": [],
   "source": []
  }
 ],
 "metadata": {
  "kernelspec": {
   "display_name": "Python 3 (ipykernel)",
   "language": "python",
   "name": "python3"
  },
  "language_info": {
   "codemirror_mode": {
    "name": "ipython",
    "version": 3
   },
   "file_extension": ".py",
   "mimetype": "text/x-python",
   "name": "python",
   "nbconvert_exporter": "python",
   "pygments_lexer": "ipython3",
   "version": "3.9.7"
  }
 },
 "nbformat": 4,
 "nbformat_minor": 5
}
