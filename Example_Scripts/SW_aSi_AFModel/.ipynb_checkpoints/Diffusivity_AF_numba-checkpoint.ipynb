{
 "cells": [
  {
   "cell_type": "code",
   "execution_count": 1,
   "metadata": {},
   "outputs": [],
   "source": [
    "import matplotlib\n",
    "#matplotlib.use('agg') # This line is necessary for non-gui linux systems\n",
    "import matplotlib.pyplot as plt\n",
    "import numpy as np\n",
    "import phonopy\n",
    "from phonopy import Phonopy\n",
    "import phonopy.interface.vasp as Intf_vasp\n",
    "from phonopy.structure.atoms import PhonopyAtoms\n",
    "import phonopy.file_IO as PhonIO\n",
    "from phonopy.interface.calculator import get_default_physical_units\n",
    "import API_phonopy as api_ph\n",
    "import AllanFeldman as AF"
   ]
  },
  {
   "cell_type": "code",
   "execution_count": 2,
   "metadata": {},
   "outputs": [],
   "source": [
    "mesh = [1,1,1]\n",
    "T = 300\n",
    "Gamma = np.array([0,0,0])\n",
    "load_data = False\n",
    "\n",
    "phonon = phonopy.load(supercell_matrix=[1,1,1],primitive_matrix='auto',\n",
    "                     unitcell_filename=\"POSCAR_512_SWrelx\",\n",
    "                     force_constants_filename='FORCE_CONSTANTS') # load the force constants."
   ]
  },
  {
   "cell_type": "code",
   "execution_count": 3,
   "metadata": {
    "scrolled": true
   },
   "outputs": [
    {
     "name": "stderr",
     "output_type": "stream",
     "text": [
      "/home/proteus/Softwares/API_Phonons/AllanFeldman.py:164: NumbaPerformanceWarning: \u001b[1m\u001b[1m\u001b[1mnp.dot() is faster on contiguous arrays, called on (array(complex128, 2d, C), array(complex128, 1d, A))\u001b[0m\u001b[0m\u001b[0m\n",
      "  V_sr = get_Vmat_modePair_q(ddm_q,eig_s,eig_r,ws,wr,factor)\n"
     ]
    },
    {
     "name": "stdout",
     "output_type": "stream",
     "text": [
      "['k= 7.349148986509698 W/mK']\n",
      "CPU times: user 12h 31min 26s, sys: 1h 20min 31s, total: 13h 51min 57s\n",
      "Wall time: 8h 1min 32s\n"
     ]
    }
   ],
   "source": [
    "%%time \n",
    "\n",
    "if load_data == False:\n",
    "    \n",
    "    phonon.run_mesh(mesh, is_gamma_center=True, \n",
    "                with_eigenvectors=True,with_group_velocities=True,\n",
    "                is_mesh_symmetry=True) # get full mesh set to false\n",
    "    qpoints, weights, frequencies, eigvecs = phonon.get_mesh()\n",
    "    freqs = frequencies[0]\n",
    "    LineWidth = np.mean(np.diff(frequencies[0]))\n",
    "\n",
    "\n",
    "    Cmodes = api_ph.mode_cv(T,freqs)\n",
    "\n",
    "    Vol = phonon.get_supercell().get_volume()*1e-30\n",
    "    \n",
    "    Dmodes,Vmat = AF.AF_diffusivity_q(phonon,Gamma,LineWidth=LineWidth)\n",
    "    k = np.sum(Cmodes*Dmodes/Vol)\n",
    "else:\n",
    "    Vol = phonon.get_supercell().get_volume()*1e-30\n",
    "    freqs = np.load('freqs.npy')\n",
    "    Cmodes = api_ph.mode_cv(T,freqs)\n",
    "    Dmodes = np.load('Dmodes.npy')\n",
    "\n",
    "    k = np.sum(Cmodes*Dmodes/Vol)\n",
    "\n",
    "print(['k= '+str(k)+' W/mK'])\n",
    "\n"
   ]
  },
  {
   "cell_type": "code",
   "execution_count": 9,
   "metadata": {},
   "outputs": [
    {
     "data": {
      "image/png": "[encoded data removed]",
      "text/plain": [
       "<Figure size 432x288 with 1 Axes>"
      ]
     },
     "metadata": {
      "needs_background": "light"
     },
     "output_type": "display_data"
    }
   ],
   "source": [
    "plt.loglog(freqs,np.abs(Dmodes)*1e4,'.')\n",
    "plt.xlim([1,20])\n",
    "#plt.ylim([0,0.02])\n",
    "plt.xlabel('Frequency (THz)')\n",
    "plt.ylabel('Diffusivity ($cm^2$/s)')\n",
    "\n",
    "np.save('Dmodes.npy',Dmodes)\n",
    "np.save('freqs.npy',freqs)"
   ]
  },
  {
   "cell_type": "code",
   "execution_count": 17,
   "metadata": {},
   "outputs": [
    {
     "data": {
      "text/plain": [
       "0.04949196564124092"
      ]
     },
     "execution_count": 17,
     "metadata": {},
     "output_type": "execute_result"
    }
   ],
   "source": [
    "LineWidth"
   ]
  },
  {
   "cell_type": "code",
   "execution_count": null,
   "metadata": {},
   "outputs": [],
   "source": []
  }
 ],
 "metadata": {
  "kernelspec": {
   "display_name": "Python 3",
   "language": "python",
   "name": "python3"
  },
  "language_info": {
   "codemirror_mode": {
    "name": "ipython",
    "version": 3
   },
   "file_extension": ".py",
   "mimetype": "text/x-python",
   "name": "python",
   "nbconvert_exporter": "python",
   "pygments_lexer": "ipython3",
   "version": "3.8.5"
  }
 },
 "nbformat": 4,
 "nbformat_minor": 4
}
