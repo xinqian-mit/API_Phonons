{
 "cells": [
  {
   "cell_type": "code",
   "execution_count": 1,
   "metadata": {},
   "outputs": [],
   "source": [
    "import numpy as np\n",
    "import API_phonopy_lammps as api_pl\n",
    "import API_phonopy as api_ph\n",
    "import matplotlib.pyplot as plt\n",
    "import ase.io as io"
   ]
  },
  {
   "cell_type": "code",
   "execution_count": 2,
   "metadata": {},
   "outputs": [],
   "source": [
    "rdf_cutoff = 10.0\n",
    "rdf_nbins = 200\n",
    "Cell_pbe = io.read('POSCAR_216_pbe',format='vasp')\n",
    "Cell_gap = io.read('POSCAR_1000_gap',format='vasp')\n",
    "Cell_sw = io.read('POSCAR_1000_sw',format='vasp')"
   ]
  },
  {
   "cell_type": "code",
   "execution_count": 3,
   "metadata": {},
   "outputs": [],
   "source": [
    "bins_pbe,rdf_pbe = api_pl.calc_rdf(Cell_pbe,rdf_cutoff,rdf_nbins)\n",
    "bins_gap,rdf_gap = api_pl.calc_rdf(Cell_gap,rdf_cutoff,rdf_nbins)\n",
    "bins_sw,rdf_sw = api_pl.calc_rdf(Cell_sw,rdf_cutoff,rdf_nbins)"
   ]
  },
  {
   "cell_type": "code",
   "execution_count": 4,
   "metadata": {},
   "outputs": [
    {
     "data": {
      "text/plain": [
       "<matplotlib.legend.Legend at 0x7fb772a16460>"
      ]
     },
     "execution_count": 4,
     "metadata": {},
     "output_type": "execute_result"
    },
    {
     "data": {
      "image/png": "[encoded data removed]",
      "text/plain": [
       "<Figure size 432x288 with 1 Axes>"
      ]
     },
     "metadata": {
      "needs_background": "light"
     },
     "output_type": "display_data"
    }
   ],
   "source": [
    "plt.plot(bins_pbe,rdf_pbe,'o-',label='PBE')\n",
    "plt.plot(bins_gap,rdf_gap,'o-',label='SOAP')\n",
    "plt.plot(bins_sw,rdf_sw,'o-',label='SW')\n",
    "plt.legend()"
   ]
  },
  {
   "cell_type": "code",
   "execution_count": 5,
   "metadata": {},
   "outputs": [
    {
     "ename": "NameError",
     "evalue": "name 'api_qpv' is not defined",
     "output_type": "error",
     "traceback": [
      "\u001b[0;31m---------------------------------------------------------------------------\u001b[0m",
      "\u001b[0;31mNameError\u001b[0m                                 Traceback (most recent call last)",
      "\u001b[0;32m<ipython-input-5-120081514cc3>\u001b[0m in \u001b[0;36m<module>\u001b[0;34m\u001b[0m\n\u001b[0;32m----> 1\u001b[0;31m \u001b[0mapi_qpv\u001b[0m\u001b[0;34m.\u001b[0m\u001b[0mwrite_2D_array\u001b[0m\u001b[0;34m(\u001b[0m\u001b[0;34m'rdf_pbe.dat'\u001b[0m\u001b[0;34m,\u001b[0m\u001b[0mnp\u001b[0m\u001b[0;34m.\u001b[0m\u001b[0marray\u001b[0m\u001b[0;34m(\u001b[0m\u001b[0;34m[\u001b[0m\u001b[0mbins_pbe\u001b[0m\u001b[0;34m,\u001b[0m\u001b[0mrdf_pbe\u001b[0m\u001b[0;34m]\u001b[0m\u001b[0;34m)\u001b[0m\u001b[0;34m)\u001b[0m\u001b[0;34m\u001b[0m\u001b[0;34m\u001b[0m\u001b[0m\n\u001b[0m\u001b[1;32m      2\u001b[0m \u001b[0mapi_qpv\u001b[0m\u001b[0;34m.\u001b[0m\u001b[0mwrite_2D_array\u001b[0m\u001b[0;34m(\u001b[0m\u001b[0;34m'rdf_gap.dat'\u001b[0m\u001b[0;34m,\u001b[0m\u001b[0mnp\u001b[0m\u001b[0;34m.\u001b[0m\u001b[0marray\u001b[0m\u001b[0;34m(\u001b[0m\u001b[0;34m[\u001b[0m\u001b[0mbins_gap\u001b[0m\u001b[0;34m,\u001b[0m\u001b[0mrdf_gap\u001b[0m\u001b[0;34m]\u001b[0m\u001b[0;34m)\u001b[0m\u001b[0;34m)\u001b[0m\u001b[0;34m\u001b[0m\u001b[0;34m\u001b[0m\u001b[0m\n\u001b[1;32m      3\u001b[0m \u001b[0mapi_qpv\u001b[0m\u001b[0;34m.\u001b[0m\u001b[0mwrite_2D_array\u001b[0m\u001b[0;34m(\u001b[0m\u001b[0;34m'rdf_sw.dat'\u001b[0m\u001b[0;34m,\u001b[0m\u001b[0mnp\u001b[0m\u001b[0;34m.\u001b[0m\u001b[0marray\u001b[0m\u001b[0;34m(\u001b[0m\u001b[0;34m[\u001b[0m\u001b[0mbins_sw\u001b[0m\u001b[0;34m,\u001b[0m\u001b[0mrdf_sw\u001b[0m\u001b[0;34m]\u001b[0m\u001b[0;34m)\u001b[0m\u001b[0;34m)\u001b[0m\u001b[0;34m\u001b[0m\u001b[0;34m\u001b[0m\u001b[0m\n",
      "\u001b[0;31mNameError\u001b[0m: name 'api_qpv' is not defined"
     ]
    }
   ],
   "source": [
    "api_qpv.write_2D_array('rdf_pbe.dat',np.array([bins_pbe,rdf_pbe]))\n",
    "api_qpv.write_2D_array('rdf_gap.dat',np.array([bins_gap,rdf_gap]))\n",
    "api_qpv.write_2D_array('rdf_sw.dat',np.array([bins_sw,rdf_sw]))"
   ]
  }
 ],
 "metadata": {
  "kernelspec": {
   "display_name": "Python 3",
   "language": "python",
   "name": "python3"
  },
  "language_info": {
   "codemirror_mode": {
    "name": "ipython",
    "version": 3
   },
   "file_extension": ".py",
   "mimetype": "text/x-python",
   "name": "python",
   "nbconvert_exporter": "python",
   "pygments_lexer": "ipython3",
   "version": "3.8.5"
  }
 },
 "nbformat": 4,
 "nbformat_minor": 2
}
