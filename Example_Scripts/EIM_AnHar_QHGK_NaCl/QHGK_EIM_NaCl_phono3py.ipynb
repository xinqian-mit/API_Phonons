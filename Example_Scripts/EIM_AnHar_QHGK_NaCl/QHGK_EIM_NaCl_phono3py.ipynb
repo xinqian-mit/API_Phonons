{
 "cells": [
  {
   "cell_type": "code",
   "execution_count": 1,
   "id": "4fbdf0e4",
   "metadata": {},
   "outputs": [],
   "source": [
    "import matplotlib\n",
    "#matplotlib.use('agg')\n",
    "\n",
    "from ase.io import read,write\n",
    "import numpy as np\n",
    "\n",
    "import API_phonopy as api_ph\n",
    "import API_phonopy_lammps as api_pl\n",
    "from phonopy import Phonopy\n",
    "import phonopy.file_IO as PhonIO\n",
    "from phonopy.interface.calculator import get_default_physical_units\n",
    "\n",
    "import os\n",
    "import phonopy.interface.vasp as Intf_vasp \n",
    "\n",
    "import AllenFeldman as AF\n",
    "from phonopy.interface.vasp import read_vasp\n",
    "from hiphive import ForceConstants\n",
    "\n",
    "import API_thirdorder as FC3\n",
    "import thirdorder_core\n",
    "import thirdorder_common\n",
    "import matplotlib.pyplot as plt\n"
   ]
  },
  {
   "cell_type": "code",
   "execution_count": 2,
   "id": "daf696d0",
   "metadata": {},
   "outputs": [
    {
     "name": "stdout",
     "output_type": "stream",
     "text": [
      "- Storing the coefficients in a dense matrix\n",
      "(3, 3, 3, 2, 54, 54)\n"
     ]
    }
   ],
   "source": [
    "# Need to activate phono3py environment. \n",
    "#Temperatures = [300] multiple temperatures.\n",
    "load_data = True\n",
    "T = 300\n",
    "Qpoints=np.array([[0.0001,0.0001,1.0],[0.5,0.5,1.0],[3./8,3./8,3./4],[0.0,0.0,0.0],[0.5,0.5,0.5]])\n",
    "band_labels=['$\\Gamma$','X','K','$\\Gamma$','L']\n",
    "\n",
    "Nrepeat=[3,3,3]\n",
    "mesh = [17,17,17]\n",
    "nneigh = 3\n",
    "\n",
    "poscar = 'POSCAR'\n",
    "\n",
    "cmds = [\"pair_style eim\",\"pair_coeff * * Na Cl ffield.eim Na Cl\"]\n",
    "\n",
    "Band_points=100\n",
    "NAC = True\n",
    "interface_mode = 'vasp'\n",
    "\n",
    "\n",
    "# compute FC2\n",
    "prim_cell = Intf_vasp.read_vasp(poscar)\n",
    "phonon = Phonopy(prim_cell,np.diag(Nrepeat))\n",
    "phonon.generate_displacements(distance=0.03) # vasp\n",
    "Scell0 = api_ph.phonopyAtoms_to_aseAtoms(phonon.get_supercell())\n",
    "\n",
    "Scells_ph = phonon.get_supercells_with_displacements() # This returns a list of Phononpy atoms object\n",
    "\n",
    "forces = api_pl.calc_lmp_force_sets(cmds,Scells_ph)\n",
    "phonon.set_forces(forces)\n",
    "PhonIO.write_FORCE_SETS(phonon.get_displacement_dataset()) # write forces & displacements to FORCE_SET\n",
    "force_set=PhonIO.parse_FORCE_SETS() # parse force_sets\n",
    "phonon.set_displacement_dataset(force_set) # force_set is a list of forces and displacements\n",
    "\n",
    "if NAC == True:\n",
    "    nac_params = PhonIO.get_born_parameters(\n",
    "            open(\"BORN\"),\n",
    "            phonon.get_primitive(),\n",
    "            phonon.get_primitive_symmetry())\n",
    "    if nac_params['factor'] == None:\n",
    "        physical_units = get_default_physical_units(interface_mode)\n",
    "        nac_params['factor'] = physical_units['nac_factor']\n",
    "    phonon._nac_params=nac_params\n",
    "\n",
    "\n",
    "phonon.produce_force_constants()\n",
    "phonon.symmetrize_force_constants()\n",
    "api_ph.write_ShengBTE_FC2(phonon.get_force_constants(), filename='FORCE_CONSTANTS_2ND')\n",
    "fc2 = phonon.get_force_constants() # get fc2.\n",
    "\n",
    "# plot dispersion\n",
    "# bands=api_ph.qpoints_Band_paths(Qpoints,Band_points)\n",
    "# phonon.set_band_structure(bands,is_eigenvectors=True,labels=band_labels)\n",
    "# phonon.write_yaml_band_structure()\n",
    "# bs_plt=phonon.plot_band_structure()\n",
    "# bs_plt.xlabel(\"\")\n",
    "# bs_plt.ylabel(\"Frequency (THz)\",fontsize=16)\n",
    "# bs_plt.xticks(fontsize=16)\n",
    "# bs_plt.yticks(fontsize=16)\n",
    "# bs_plt.savefig(\"Bandstructure.png\",dpi=300,bbox_inches='tight')\n",
    "\n",
    "\n",
    "# compute FC3\n",
    "\n",
    "poscar = FC3.read_POSCAR(\".\")\n",
    "natoms = len(poscar[\"types\"])\n",
    "symops = thirdorder_core.SymmetryOperations(poscar[\"lattvec\"], poscar[\"types\"], poscar[\"positions\"].T, 1e-5) # symops is an obj.\n",
    "sposcar = FC3.gen_SPOSCAR(poscar, Nrepeat[0], Nrepeat[1], Nrepeat[2])\n",
    "FC3.write_POSCAR(sposcar,'SPOSCAR')\n",
    "ntot = natoms * np.prod(Nrepeat)\n",
    "dmin, nequi, shifts = FC3.calc_dists(sposcar)\n",
    "frange = FC3.calc_frange(poscar, sposcar, nneigh, dmin)\n",
    "\n",
    "\n",
    "wedge = thirdorder_core.Wedge(poscar, sposcar, symops, dmin, nequi, shifts,frange)\n",
    "list4 = wedge.build_list4()\n",
    "nirred = len(list4)\n",
    "nruns = 4 * nirred\n",
    "width = len(str(4 * (len(list4) + 1)))\n",
    "namepattern = \"3RD.POSCAR.{{0:0{0}d}}\".format(width)\n",
    "\n",
    "\n",
    "Scells = []\n",
    "phipart = np.zeros((3, nirred, ntot))\n",
    "p = FC3.build_unpermutation(sposcar)\n",
    "for i, e in enumerate(list4):\n",
    "    for n in range(4): \n",
    "        isign = (-1)**(n // 2)\n",
    "        jsign = -(-1)**(n % 2)\n",
    "        # Start numbering the files at 1 for aesthetic\n",
    "        # reasons.\n",
    "        number = nirred * n + i + 1 # the number doesn't follow the order of 1,2,3,... \n",
    "        dsposcar = FC3.normalize_SPOSCAR(FC3.move_two_atoms(sposcar, e[1], e[3], isign * thirdorder_common.H, e[0], e[2], jsign * thirdorder_common.H))\n",
    "        filename = namepattern.format(number)\n",
    "        FC3.write_POSCAR(dsposcar, filename)\n",
    "        Scell = read_vasp(filename)\n",
    "        Scells.append(Scell)\n",
    "        os.remove(filename)\n",
    "        #print number\n",
    "        Scell_ase = api_ph.phonopyAtoms_to_aseAtoms(Scell)\n",
    "        force = np.array(api_pl.calc_lmp_force(cmds,Scell_ase))\n",
    "        phipart[:, i, :] -= isign * jsign * force[p, :].T   \n",
    "     \n",
    "phipart /= (400. * thirdorder_common.H * thirdorder_common.H)\n",
    "phifull = thirdorder_core.reconstruct_ifcs(phipart, wedge, list4,poscar, sposcar)\n",
    "print(phifull.shape)\n",
    "thirdorder_common.write_ifcs(phifull, poscar, sposcar, dmin, nequi, shifts, frange,\"FORCE_CONSTANTS_3RD\")\n",
    "\n",
    "# convert FC3 shengBTE to fc3 for phono3py.\n",
    "prim = read('POSCAR')\n",
    "supercell = read('SPOSCAR')\n",
    "fc3 = ForceConstants.read_shengBTE(supercell, 'FORCE_CONSTANTS_3RD', prim)\n",
    "\n",
    "api_ph.write_phonopy_fc2_hdf5('fc2.hdf5',fc2)\n",
    "api_ph.write_phonopy_fc3_hdf5('fc3.hdf5',fc3)"
   ]
  },
  {
   "cell_type": "code",
   "execution_count": 3,
   "id": "3fd37646",
   "metadata": {},
   "outputs": [
    {
     "name": "stderr",
     "output_type": "stream",
     "text": [
      "/home/xinqian/Softwares/API_Phonons/AllenFeldman.py:644: RuntimeWarning: invalid value encountered in true_divide\n",
      "  Tau_sr = Num/Den # ps\n"
     ]
    }
   ],
   "source": [
    "# under construction, compute QHGK thermal conductivity\n",
    "kappa_sym,kappa_ph_sym,Kxx_mp,Kyy_mp,Kzz_mp,Freqs,weights = AF.calc_QHGK_phono3py(phonon,mesh,T,NAC,load_data)"
   ]
  },
  {
   "cell_type": "code",
   "execution_count": 4,
   "id": "7dd77d33",
   "metadata": {},
   "outputs": [
    {
     "name": "stdout",
     "output_type": "stream",
     "text": [
      "QHGK kappa = \n",
      "[[[ 6.19290313e+00  2.94425735e-17  1.35967103e-17]\n",
      "  [ 2.94425735e-17  6.19290313e+00 -1.71242362e-18]\n",
      "  [ 1.35967103e-17 -1.71242362e-18  6.19290313e+00]]]\n",
      "Phonon RTA kappa = \n",
      "[[[ 6.07164369e+00  3.02484135e-17  1.47671318e-17]\n",
      "  [ 3.02484135e-17  6.07164369e+00 -1.95157871e-18]\n",
      "  [ 1.47671318e-17 -1.95157871e-18  6.07164369e+00]]]\n"
     ]
    }
   ],
   "source": [
    "print('QHGK kappa = ')\n",
    "print(kappa_sym)\n",
    "print('Phonon RTA kappa = ')\n",
    "print(kappa_ph_sym)\n",
    "    "
   ]
  },
  {
   "cell_type": "code",
   "execution_count": 5,
   "id": "90e012b8",
   "metadata": {},
   "outputs": [
    {
     "data": {
      "text/plain": [
       "Text(0, 0.5, 'Phonon Frequencies $f_n$ (THz)')"
      ]
     },
     "execution_count": 5,
     "metadata": {},
     "output_type": "execute_result"
    },
    {
     "data": {
      "image/png": "[encoded data removed]",
      "text/plain": [
       "<Figure size 432x288 with 2 Axes>"
      ]
     },
     "metadata": {
      "needs_background": "light"
     },
     "output_type": "display_data"
    }
   ],
   "source": [
    "# flatten kxx_mp according to freqeuencies.\n",
    "\n",
    "Nq,Nbrch = Kxx_mp.shape[:2]\n",
    "\n",
    "Kxx_mp_flat = np.zeros((Nq*Nbrch,Nq*Nbrch))\n",
    "Freqs_flat = np.zeros(Nq*Nbrch)\n",
    "\n",
    "for iq in range(Nq):\n",
    "    Freqs_flat[iq*Nbrch:(iq+1)*Nbrch] = Freqs[iq]\n",
    "    Kxx_mp_flat[iq*Nbrch:(iq+1)*Nbrch,iq*Nbrch:(iq+1)*Nbrch] = Kxx_mp[iq]\n",
    "\n",
    "Wm,Wn = np.meshgrid(Freqs_flat,Freqs_flat)\n",
    "\n",
    "plt.scatter(Wm,Wn,c=Kxx_mp_flat,marker='.',cmap='YlGnBu')\n",
    "plt.colorbar(label='$\\kappa_{mn}$ (W/m$\\cdot$K)')\n",
    "plt.clim([0,0.05])\n",
    "plt.xlim([0,np.max(Freqs_flat)])\n",
    "plt.ylim([0,np.max(Freqs_flat)])\n",
    "plt.xlabel('Phonon Frequencies $f_m$ (THz)')\n",
    "plt.ylabel('Phonon Frequencies $f_n$ (THz)')"
   ]
  }
 ],
 "metadata": {
  "kernelspec": {
   "display_name": "Python 3 (ipykernel)",
   "language": "python",
   "name": "python3"
  },
  "language_info": {
   "codemirror_mode": {
    "name": "ipython",
    "version": 3
   },
   "file_extension": ".py",
   "mimetype": "text/x-python",
   "name": "python",
   "nbconvert_exporter": "python",
   "pygments_lexer": "ipython3",
   "version": "3.9.7"
  }
 },
 "nbformat": 4,
 "nbformat_minor": 5
}
