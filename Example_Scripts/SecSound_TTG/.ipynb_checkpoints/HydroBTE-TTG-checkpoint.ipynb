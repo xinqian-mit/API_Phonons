{
 "cells": [
  {
   "cell_type": "code",
   "execution_count": 1,
   "id": "7bf53b60",
   "metadata": {},
   "outputs": [],
   "source": [
    "import matplotlib\n",
    "import phonopy\n",
    "import numpy as np\n",
    "import API_phonopy as api_ph\n",
    "import BTE_GreensFunction as BTEGF\n",
    "import matplotlib.pyplot as plt\n",
    "from matplotlib import cm, ticker \n",
    "from phonopy.units import VaspToTHz, EV, Angstrom, Kb, THz, THzToEv, Hbar\n",
    "import Pump_Probe as PuPr\n"
   ]
  },
  {
   "cell_type": "code",
   "execution_count": 2,
   "id": "6197299c",
   "metadata": {},
   "outputs": [],
   "source": [
    "# Basic setups. \n",
    "T0 = 100 # Temperature\n",
    "mesh = [24,24,10]#\n",
    "Nrepeat_fc2 = [5,5,3] \n",
    "\n",
    "x_direct = [0] # this is a tuple/list object\n",
    "\n",
    "\n",
    "# this doe sn't really matter. for calculations, as all velocities are input from BTE\n",
    "poscar = 'POSCAR' \n",
    "sposcar_fc3 = '3RD.SPOSCAR'\n",
    "\n",
    "\n",
    "load_GFs = False # if Green functions of BTE are loaded.\n",
    "\n",
    "is_isotope = True # include isotope\n",
    "four_phonon = False # you will need to calculate 4ph scatterings \n",
    "write_data = True\n",
    "\n",
    "tns_cut = 1.6 # plot up to this time, in ns\n",
    "fGHz_cut = 100.0\n",
    "\n",
    "# ------------------------------------- ShengBTE calculated phonon props -------------------------------------#\n",
    "BTE_Folder = './Qmesh-242410/'\n",
    "Dir_BTE_HarPhons = BTE_Folder+'BTE/' #remember to end with /\n",
    "Dir_BTE_lifetime = BTE_Folder + 'T' + str(T0) +'K/'\n",
    "Dir_BTE_MFD = BTE_Folder + 'T' + str(T0) +'K/' # set the same as RTA, then MFD is mean free path.\n",
    "# ------------------------------------ Params to calculate Callaway GF ---------------------------------------#\n",
    "\n",
    "Grating_Period = 4e-6 #np.logspace(0,np.log10(200),15)[7]*1e-6 # grating period. # Grating is always thought as in the in-plane\n",
    "D_boundary = 50e-6 # grain size of graphite.\n",
    "Tmax = 1e6 # ps largest ifft time\n",
    "FreqH_MHz = np.logspace(-2,6,51)# Specify heating freqs\n",
    "\n",
    "OmegaH_Trads = FreqH_MHz*np.pi*2e-6 # In Trad/s \n"
   ]
  },
  {
   "cell_type": "code",
   "execution_count": 3,
   "id": "db9a1474",
   "metadata": {
    "scrolled": true
   },
   "outputs": [
    {
     "ename": "FileNotFoundError",
     "evalue": "'POSCAR' could not be found.",
     "output_type": "error",
     "traceback": [
      "\u001b[0;31m---------------------------------------------------------------------------\u001b[0m",
      "\u001b[0;31mFileNotFoundError\u001b[0m                         Traceback (most recent call last)",
      "\u001b[0;32m/tmp/ipykernel_2301710/2784119988.py\u001b[0m in \u001b[0;36m<module>\u001b[0;34m\u001b[0m\n\u001b[1;32m      1\u001b[0m \u001b[0;31m# ----------------------------- Creating Phonon objects carrying BZ and qmesh ----------------------------------#\u001b[0m\u001b[0;34m\u001b[0m\u001b[0;34m\u001b[0m\u001b[0m\n\u001b[0;32m----> 2\u001b[0;31m phonon = phonopy.load(unitcell_filename='POSCAR',\n\u001b[0m\u001b[1;32m      3\u001b[0m                       \u001b[0msupercell_matrix\u001b[0m\u001b[0;34m=\u001b[0m\u001b[0mNrepeat_fc2\u001b[0m\u001b[0;34m,\u001b[0m\u001b[0;34m\u001b[0m\u001b[0;34m\u001b[0m\u001b[0m\n\u001b[1;32m      4\u001b[0m                       force_constants_filename='FORCE_CONSTANTS') # load with POSCAR and FORCE_SETS\n\u001b[1;32m      5\u001b[0m \u001b[0;34m\u001b[0m\u001b[0m\n",
      "\u001b[0;32m~/Softwares/anaconda3/lib/python3.9/site-packages/phonopy/cui/load.py\u001b[0m in \u001b[0;36mload\u001b[0;34m(phonopy_yaml, supercell_matrix, primitive_matrix, is_nac, calculator, unitcell, supercell, nac_params, unitcell_filename, supercell_filename, born_filename, force_sets_filename, force_constants_filename, fc_calculator, fc_calculator_options, factor, frequency_scale_factor, produce_fc, is_symmetry, symmetrize_fc, is_compact_fc, store_dense_svecs, symprec, log_level)\u001b[0m\n\u001b[1;32m    204\u001b[0m         \u001b[0munitcell\u001b[0m \u001b[0;32mis\u001b[0m \u001b[0;32mnot\u001b[0m \u001b[0;32mNone\u001b[0m \u001b[0;32mor\u001b[0m\u001b[0;34m\u001b[0m\u001b[0;34m\u001b[0m\u001b[0m\n\u001b[1;32m    205\u001b[0m         unitcell_filename is not None):  # noqa E129\n\u001b[0;32m--> 206\u001b[0;31m         cell, smat, pmat = load_helper.get_cell_settings(\n\u001b[0m\u001b[1;32m    207\u001b[0m             \u001b[0msupercell_matrix\u001b[0m\u001b[0;34m=\u001b[0m\u001b[0msupercell_matrix\u001b[0m\u001b[0;34m,\u001b[0m\u001b[0;34m\u001b[0m\u001b[0;34m\u001b[0m\u001b[0m\n\u001b[1;32m    208\u001b[0m             \u001b[0mprimitive_matrix\u001b[0m\u001b[0;34m=\u001b[0m\u001b[0mprimitive_matrix\u001b[0m\u001b[0;34m,\u001b[0m\u001b[0;34m\u001b[0m\u001b[0;34m\u001b[0m\u001b[0m\n",
      "\u001b[0;32m~/Softwares/anaconda3/lib/python3.9/site-packages/phonopy/cui/load_helper.py\u001b[0m in \u001b[0;36mget_cell_settings\u001b[0;34m(phonopy_yaml, supercell_matrix, primitive_matrix, unitcell, supercell, unitcell_filename, supercell_filename, calculator, symprec, log_level)\u001b[0m\n\u001b[1;32m     87\u001b[0m         \u001b[0mfilename\u001b[0m \u001b[0;34m=\u001b[0m \u001b[0moptional_structure_info\u001b[0m\u001b[0;34m[\u001b[0m\u001b[0;36m0\u001b[0m\u001b[0;34m]\u001b[0m\u001b[0;34m\u001b[0m\u001b[0;34m\u001b[0m\u001b[0m\n\u001b[1;32m     88\u001b[0m         \u001b[0mmsg\u001b[0m \u001b[0;34m=\u001b[0m \u001b[0;34m\"'%s' could not be found.\"\u001b[0m \u001b[0;34m%\u001b[0m \u001b[0mfilename\u001b[0m\u001b[0;34m\u001b[0m\u001b[0;34m\u001b[0m\u001b[0m\n\u001b[0;32m---> 89\u001b[0;31m         \u001b[0;32mraise\u001b[0m \u001b[0mFileNotFoundError\u001b[0m\u001b[0;34m(\u001b[0m\u001b[0mmsg\u001b[0m\u001b[0;34m)\u001b[0m\u001b[0;34m\u001b[0m\u001b[0;34m\u001b[0m\u001b[0m\n\u001b[0m\u001b[1;32m     90\u001b[0m \u001b[0;34m\u001b[0m\u001b[0m\n\u001b[1;32m     91\u001b[0m     \u001b[0mpmat\u001b[0m \u001b[0;34m=\u001b[0m \u001b[0mget_primitive_matrix\u001b[0m\u001b[0;34m(\u001b[0m\u001b[0mpmat\u001b[0m\u001b[0;34m,\u001b[0m \u001b[0msymprec\u001b[0m\u001b[0;34m=\u001b[0m\u001b[0msymprec\u001b[0m\u001b[0;34m)\u001b[0m\u001b[0;34m\u001b[0m\u001b[0;34m\u001b[0m\u001b[0m\n",
      "\u001b[0;31mFileNotFoundError\u001b[0m: 'POSCAR' could not be found."
     ]
    }
   ],
   "source": [
    "# ----------------------------- Creating Phonon objects carrying BZ and qmesh ----------------------------------#\n",
    "phonon = phonopy.load(unitcell_filename='POSCAR',\n",
    "                      supercell_matrix=Nrepeat_fc2,\n",
    "                      force_constants_filename='FORCE_CONSTANTS') # load with POSCAR and FORCE_SETS\n",
    "\n",
    "fc2 = phonon.force_constants\n",
    "phonon.run_mesh(mesh,is_gamma_center=True) \n",
    "# make gamma centered to be consistent with phono3py & ShengBTE\n",
    "\n",
    "qpoints = phonon.get_mesh_dict()['qpoints']\n",
    "w_qgrid = phonon.get_mesh_dict()['weights']\n",
    "(Nqired,Ns) = phonon.get_mesh_dict()['frequencies'].shape #irreducible.\n",
    "Wmat_grid = np.reshape(np.repeat(w_qgrid,Ns).T,(Nqired,Ns))\n",
    "rots_qpoints = BTEGF.get_qpoint_rotsym(phonon) # rotations at q points.\n",
    "\n",
    "\n",
    "qpoints_full,Vec_freqs,Vec_cqs,Vec_vqs,Vec_Fsc_qs,Vec_tau_qs,Vec_tauN_qs,Vec_tauR_qs,kappa_cvF,Nratio_qs = BTEGF.load_ShengBTE_Phonons(T0,phonon,Dir_BTE_HarPhons,Dir_BTE_MFD,Dir_BTE_lifetime,D_boundary,is_isotope,four_phonon)\n",
    "\n",
    "Cap = np.sum(Vec_cqs)*EV/Angstrom**3\n",
    "\n",
    "print('Thermal conductivity cvF (W/mK):')\n",
    "print('when RTA is used in ShengBTE, cvF = cv^2tau')    \n",
    "print(kappa_cvF) # phono3py, this is equivalent to RTA. \n",
    "print('Vol. heat capaicty (J/m3K):')\n",
    "print(Cap)\n",
    "\n",
    "kappa_r = (kappa_cvF[0,0]+kappa_cvF[1,1])/2\n",
    "kappa_z = kappa_cvF[2,2]"
   ]
  },
  {
   "cell_type": "code",
   "execution_count": null,
   "id": "be9e6d6b",
   "metadata": {
    "scrolled": true
   },
   "outputs": [],
   "source": [
    "XIx, OMEGAH = BTEGF.Generate_TTGMeshGrid(Grating_Period,FreqH_MHz)\n",
    "\n",
    "\n",
    "Meshgrid,GdT_NU,Gu,GdT_RTA = BTEGF.get_BTEGFs(T0,load_GFs,is_isotope,(XIx,OMEGAH),qpoints_full,phonon,rots_qpoints,\n",
    "                                                        Vec_freqs,Vec_cqs,Vec_vqs,Vec_Fsc_qs,Vec_tau_qs,Vec_tauN_qs,Vec_tauR_qs,x_direct)"
   ]
  },
  {
   "cell_type": "code",
   "execution_count": null,
   "id": "e4e1f3a2",
   "metadata": {},
   "outputs": [],
   "source": [
    "XIx, OMEGAH = Meshgrid\n",
    "GdT_Fourier = BTEGF.GF_Fourier_1D(XIx,OMEGAH,kappa_r,Cap)"
   ]
  },
  {
   "cell_type": "code",
   "execution_count": null,
   "id": "504fc4b5",
   "metadata": {},
   "outputs": [],
   "source": [
    "t,Tt_NU,wH,Tw_NU = PuPr.calc_TTGSig(XIx,OmegaH_Trads,GdT_NU,Tmax,np.max(OmegaH_Trads),'PCI')\n",
    "t,Tt_RTA,wH,Tw_RTA = PuPr.calc_TTGSig(XIx,OmegaH_Trads,GdT_RTA,Tmax,np.max(OmegaH_Trads),'PCI')\n",
    "t,Tt_F,wH,Tw_F = PuPr.calc_TTGSig(XIx,OmegaH_Trads,GdT_Fourier,Tmax,np.max(OmegaH_Trads),'PCI')"
   ]
  },
  {
   "cell_type": "code",
   "execution_count": null,
   "id": "5265c15e",
   "metadata": {
    "scrolled": true
   },
   "outputs": [],
   "source": [
    "fGHz = wH*1e3/2/np.pi\n",
    "plt.semilogx(fGHz,Tw_F/Tw_F[0])\n",
    "plt.semilogx(fGHz,Tw_NU/Tw_NU[0])\n",
    "plt.semilogx(fGHz,Tw_RTA/Tw_RTA[0])\n",
    "plt.xlim([0.001,fGHz_cut])\n",
    "plt.ylim([0,1.6])\n",
    "\n",
    "plt.xlabel('Frequency (GHz)')\n",
    "plt.ylabel('|$\\Delta T(\\Omega)$|')"
   ]
  },
  {
   "cell_type": "code",
   "execution_count": null,
   "id": "b0aa67b8",
   "metadata": {},
   "outputs": [],
   "source": [
    "#tns_cut = 10\n",
    "t_ns = t/1e3\n",
    "plt.plot(t_ns,Tt_F/Tt_F[0])\n",
    "plt.plot(t_ns,Tt_NU/Tt_NU[0])\n",
    "plt.plot(t_ns,Tt_RTA/Tt_RTA[0])\n",
    "plt.plot(t_ns,0*t,'--',color='0.3')\n",
    "plt.xlim([0.0,tns_cut])\n",
    "# plt.ylim([-0.1,1])\n",
    "plt.legend(['Fourier','Hydrodynamics','RTA'])\n",
    "plt.xlabel('Time (ns)')\n",
    "plt.ylabel('Normalized $\\Delta$T(K)')"
   ]
  },
  {
   "cell_type": "code",
   "execution_count": null,
   "id": "1b2f8997",
   "metadata": {},
   "outputs": [],
   "source": [
    "if write_data:\n",
    "    Lstr = str(Grating_Period*1e6)\n",
    "    if is_isotope:\n",
    "        if four_phonon:\n",
    "            filename = 'TTG_'+Lstr+'um_'+'T'+str(T0)+'K_3ph-4ph.data'\n",
    "        else:\n",
    "            filename = 'TTG_'+Lstr+'um_'+'T'+str(T0)+'K_3ph.data'\n",
    "    else:\n",
    "        if four_phonon:\n",
    "            filename = 'TTG_'+Lstr+'um_'+'T'+str(T0)+'K_3ph-4ph-noiso.data'\n",
    "        else:\n",
    "            filename = 'TTG_'+Lstr+'um_'+'T'+str(T0)+'K_3ph-noiso.data'\n",
    "\n",
    "    TD_TTGSig = np.array([t_ns[t_ns<tns_cut],Tt_F[t_ns<tns_cut]/np.max(Tt_F),Tt_NU[t_ns<tns_cut]/np.max(Tt_NU),Tt_RTA[t_ns<tns_cut]/np.max(Tt_RTA)])\n",
    "    api_ph.write_2D_array(filename,TD_TTGSig,'# time(ns)  Fourier    CSA-BTE   RTA-BTE')\n",
    "    \n",
    "    FD_TTGSig = np.array([fGHz[fGHz<fGHz_cut],Tw_F[fGHz<fGHz_cut]/Tw_F[0],Tw_NU[fGHz<fGHz_cut]/Tw_NU[0],Tw_RTA[fGHz<fGHz_cut]/Tw_RTA[0]])\n",
    "    api_ph.write_2D_array('FD-'+filename,FD_TTGSig.real,'# Freq(GHz)  Fourier    CSA-BTE   RTA-BTE')"
   ]
  },
  {
   "cell_type": "code",
   "execution_count": null,
   "id": "2af87a70",
   "metadata": {
    "scrolled": false
   },
   "outputs": [],
   "source": [
    "print(Grating_Period*1e6)\n",
    "print('TTG dip depth:')\n",
    "print(np.min(Tt_NU[t_ns<tns_cut]/np.max(Tt_F)))"
   ]
  },
  {
   "cell_type": "code",
   "execution_count": null,
   "id": "7c21d013",
   "metadata": {},
   "outputs": [],
   "source": [
    "# t,ut,wH,uw = PuPr.calc_TTGSig(XIx,OmegaH_Trads,Gu*np.sign(XIx),Tmax,np.max(OmegaH_Trads),'PCI')\n",
    "# plt.plot(t/1e3,ut/np.max(ut))\n",
    "# plt.plot(t_ns,Tt_NU/Tt_NU[0])\n",
    "# plt.xlim([0,1.6])\n",
    "# plt.legend(['Drift velocity','Temperature'])"
   ]
  },
  {
   "cell_type": "code",
   "execution_count": null,
   "id": "3063e0f8",
   "metadata": {},
   "outputs": [],
   "source": []
  }
 ],
 "metadata": {
  "kernelspec": {
   "display_name": "Python 3 (ipykernel)",
   "language": "python",
   "name": "python3"
  },
  "language_info": {
   "codemirror_mode": {
    "name": "ipython",
    "version": 3
   },
   "file_extension": ".py",
   "mimetype": "text/x-python",
   "name": "python",
   "nbconvert_exporter": "python",
   "pygments_lexer": "ipython3",
   "version": "3.9.7"
  }
 },
 "nbformat": 4,
 "nbformat_minor": 5
}
