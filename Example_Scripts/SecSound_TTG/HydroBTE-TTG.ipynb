{
 "cells": [
  {
   "cell_type": "code",
   "execution_count": 1,
   "id": "7bf53b60",
   "metadata": {},
   "outputs": [],
   "source": [
    "import matplotlib\n",
    "import phonopy\n",
    "import numpy as np\n",
    "import API_phonopy as api_ph\n",
    "import BTE_GreensFunction as BTEGF\n",
    "import matplotlib.pyplot as plt\n",
    "from matplotlib import cm, ticker \n",
    "from phonopy.units import VaspToTHz, EV, Angstrom, Kb, THz, THzToEv, Hbar\n",
    "import Pump_Probe as PuPr\n"
   ]
  },
  {
   "cell_type": "code",
   "execution_count": 2,
   "id": "6197299c",
   "metadata": {},
   "outputs": [],
   "source": [
    "# Basic setups. \n",
    "T0 = 100 # Temperature\n",
    "mesh = [24,24,10]#\n",
    "Nrepeat_fc2 = [5,5,3] \n",
    "\n",
    "x_direct = [0] # this is a tuple/list object\n",
    "\n",
    "\n",
    "# this doe sn't really matter. for calculations, as all velocities are input from BTE\n",
    "poscar = 'POSCAR' \n",
    "sposcar_fc3 = '3RD.SPOSCAR'\n",
    "\n",
    "\n",
    "load_GFs = False # if Green functions of BTE are loaded.\n",
    "\n",
    "is_isotope = True # include isotope\n",
    "four_phonon = False # you will need to calculate 4ph scatterings \n",
    "write_data = True\n",
    "\n",
    "tns_cut = 0.5 # plot up to this time, in ns\n",
    "fGHz_cut = 100.0\n",
    "\n",
    "# ------------------------------------- ShengBTE calculated phonon props -------------------------------------#\n",
    "BTE_Folder = './Qmesh-242410/'\n",
    "Dir_BTE_HarPhons = BTE_Folder+'BTE/' #remember to end with /\n",
    "Dir_BTE_lifetime = BTE_Folder + 'T' + str(T0) +'K/'\n",
    "Dir_BTE_MFD = BTE_Folder + 'T' + str(T0) +'K/' # set the same as RTA, then MFD is mean free path.\n",
    "# ------------------------------------ Params to calculate Callaway GF ---------------------------------------#\n",
    "\n",
    "Grating_Period = 4e-6 #np.logspace(0,np.log10(200),15)[7]*1e-6 # grating period. # Grating is always thought as in the in-plane\n",
    "D_boundary = 50e-6 # grain size of graphite.\n",
    "Tmax = 1e6 # ps largest ifft time\n",
    "FreqH_MHz = np.logspace(-2,6,51)# Specify heating freqs\n",
    "\n",
    "OmegaH_Trads = FreqH_MHz*np.pi*2e-6 # In Trad/s \n"
   ]
  },
  {
   "cell_type": "code",
   "execution_count": 3,
   "id": "db9a1474",
   "metadata": {
    "scrolled": true
   },
   "outputs": [
    {
     "name": "stderr",
     "output_type": "stream",
     "text": [
      "/home/xinqian/Softwares/anaconda3/lib/python3.9/site-packages/phonopy/phonon/thermal_properties.py:43: RuntimeWarning: invalid value encountered in true_divide\n",
      "  return Kb * x ** 2 * expVal / (expVal - 1.0) ** 2\n",
      "/home/xinqian/Softwares/API_Phonons/BTE_GreensFunction.py:460: RuntimeWarning: divide by zero encountered in true_divide\n",
      "  tau_ph = 1./(scatt_rate_N+scatt_rate_U)\n",
      "/home/xinqian/Softwares/API_Phonons/BTE_GreensFunction.py:461: RuntimeWarning: divide by zero encountered in true_divide\n",
      "  tau_N = 1./scatt_rate_N # ps.\n",
      "/home/xinqian/Softwares/API_Phonons/BTE_GreensFunction.py:464: RuntimeWarning: divide by zero encountered in true_divide\n",
      "  tau_qs = 1./(scatt_rate_N+scatt_rate_U+scatt_rate_I+scatt_rate_b)\n",
      "/home/xinqian/Softwares/API_Phonons/BTE_GreensFunction.py:364: RuntimeWarning: invalid value encountered in double_scalars\n",
      "  Vec_tau_sc[iqs] += Num/Den/weights[iq] # rescaled relaxatio time.\n",
      "/home/xinqian/Softwares/API_Phonons/BTE_GreensFunction.py:536: RuntimeWarning: divide by zero encountered in true_divide\n",
      "  Gamma = 1/Vec_tausc_qs\n"
     ]
    }
   ],
   "source": [
    "# ----------------------------- Creating Phonon objects carrying BZ and qmesh ----------------------------------#\n",
    "phonon = phonopy.load(unitcell_filename='POSCAR',\n",
    "                      supercell_matrix=Nrepeat_fc2,\n",
    "                      force_constants_filename='FORCE_CONSTANTS') # load with POSCAR and FORCE_SETS\n",
    "\n",
    "fc2 = phonon.force_constants\n",
    "phonon.run_mesh(mesh,is_gamma_center=True) \n",
    "# make gamma centered to be consistent with phono3py & ShengBTE\n",
    "\n",
    "qpoints = phonon.get_mesh_dict()['qpoints']\n",
    "w_qgrid = phonon.get_mesh_dict()['weights']\n",
    "(Nqired,Ns) = phonon.get_mesh_dict()['frequencies'].shape #irreducible.\n",
    "Wmat_grid = np.reshape(np.repeat(w_qgrid,Ns).T,(Nqired,Ns))\n",
    "rots_qpoints = BTEGF.get_qpoint_rotsym(phonon) # rotations at q points.\n",
    "\n",
    "\n",
    "qpoints_full,Vec_freqs,Vec_cqs,Vec_vqs,Vec_Fsc_qs,Vec_tau_qs,Vec_tauN_qs,Vec_tauR_qs,kappa_cvF,Nratio_qs = BTEGF.load_ShengBTE_Phonons(T0,phonon,Dir_BTE_HarPhons,Dir_BTE_MFD,Dir_BTE_lifetime,D_boundary,is_isotope,four_phonon)\n",
    "\n",
    "Cap = np.sum(Vec_cqs)*EV/Angstrom**3\n",
    "\n",
    "kappa_r = (kappa_cvF[0,0]+kappa_cvF[1,1])/2\n",
    "kappa_z = kappa_cvF[2,2]"
   ]
  },
  {
   "cell_type": "code",
   "execution_count": 4,
   "id": "be9e6d6b",
   "metadata": {
    "scrolled": true
   },
   "outputs": [],
   "source": [
    "XIx, OMEGAH = BTEGF.Generate_TTGMeshGrid(Grating_Period,FreqH_MHz)\n",
    "\n",
    "\n",
    "Meshgrid,GdT_NU,Gu,GdT_RTA = BTEGF.get_BTEGFs(T0,load_GFs,is_isotope,(XIx,OMEGAH),qpoints_full,phonon,rots_qpoints,\n",
    "                                                        Vec_freqs,Vec_cqs,Vec_vqs,Vec_Fsc_qs,Vec_tau_qs,Vec_tauN_qs,Vec_tauR_qs,x_direct)"
   ]
  },
  {
   "cell_type": "code",
   "execution_count": 5,
   "id": "e4e1f3a2",
   "metadata": {},
   "outputs": [],
   "source": [
    "XIx, OMEGAH = Meshgrid\n",
    "GdT_Fourier = BTEGF.GF_Fourier_1D(XIx,OMEGAH,kappa_r,Cap)"
   ]
  },
  {
   "cell_type": "code",
   "execution_count": 6,
   "id": "504fc4b5",
   "metadata": {},
   "outputs": [],
   "source": [
    "t,Tt_NU,wH,Tw_NU = PuPr.calc_TTGSig(XIx,OmegaH_Trads,GdT_NU,Tmax,np.max(OmegaH_Trads),'PCI')\n",
    "t,Tt_RTA,wH,Tw_RTA = PuPr.calc_TTGSig(XIx,OmegaH_Trads,GdT_RTA,Tmax,np.max(OmegaH_Trads),'PCI')\n",
    "t,Tt_F,wH,Tw_F = PuPr.calc_TTGSig(XIx,OmegaH_Trads,GdT_Fourier,Tmax,np.max(OmegaH_Trads),'PCI')"
   ]
  },
  {
   "cell_type": "code",
   "execution_count": 7,
   "id": "5265c15e",
   "metadata": {
    "scrolled": true
   },
   "outputs": [
    {
     "name": "stderr",
     "output_type": "stream",
     "text": [
      "/home/xinqian/Softwares/anaconda3/lib/python3.9/site-packages/numpy/core/_asarray.py:102: ComplexWarning: Casting complex values to real discards the imaginary part\n",
      "  return array(a, dtype, copy=False, order=order)\n",
      "/home/xinqian/Softwares/anaconda3/lib/python3.9/site-packages/numpy/core/_asarray.py:102: ComplexWarning: Casting complex values to real discards the imaginary part\n",
      "  return array(a, dtype, copy=False, order=order)\n",
      "/home/xinqian/Softwares/anaconda3/lib/python3.9/site-packages/numpy/core/_asarray.py:102: ComplexWarning: Casting complex values to real discards the imaginary part\n",
      "  return array(a, dtype, copy=False, order=order)\n"
     ]
    },
    {
     "data": {
      "text/plain": [
       "Text(0, 0.5, '|$\\\\Delta T(\\\\Omega)$|')"
      ]
     },
     "execution_count": 7,
     "metadata": {},
     "output_type": "execute_result"
    },
    {
     "data": {
      "image/png": "[encoded data removed]",
      "text/plain": [
       "<Figure size 432x288 with 1 Axes>"
      ]
     },
     "metadata": {
      "needs_background": "light"
     },
     "output_type": "display_data"
    }
   ],
   "source": [
    "fGHz = wH*1e3/2/np.pi\n",
    "plt.semilogx(fGHz,Tw_F/Tw_F[0])\n",
    "plt.semilogx(fGHz,Tw_NU/Tw_NU[0])\n",
    "plt.semilogx(fGHz,Tw_RTA/Tw_RTA[0])\n",
    "plt.xlim([0.001,fGHz_cut])\n",
    "plt.ylim([0,1.6])\n",
    "\n",
    "plt.xlabel('Frequency (GHz)')\n",
    "plt.ylabel('|$\\Delta T(\\Omega)$|')"
   ]
  },
  {
   "cell_type": "code",
   "execution_count": 8,
   "id": "b0aa67b8",
   "metadata": {},
   "outputs": [
    {
     "data": {
      "text/plain": [
       "Text(0, 0.5, 'Normalized $\\\\Delta$T(K)')"
      ]
     },
     "execution_count": 8,
     "metadata": {},
     "output_type": "execute_result"
    },
    {
     "data": {
      "image/png": "[encoded data removed]",
      "text/plain": [
       "<Figure size 432x288 with 1 Axes>"
      ]
     },
     "metadata": {
      "needs_background": "light"
     },
     "output_type": "display_data"
    }
   ],
   "source": [
    "#tns_cut = 10\n",
    "t_ns = t/1e3\n",
    "plt.plot(t_ns,Tt_F/Tt_F[0])\n",
    "plt.plot(t_ns,Tt_NU/Tt_NU[0])\n",
    "plt.plot(t_ns,Tt_RTA/Tt_RTA[0])\n",
    "plt.plot(t_ns,0*t,'--',color='0.3')\n",
    "plt.xlim([0.0,tns_cut])\n",
    "# plt.ylim([-0.1,1])\n",
    "plt.legend(['Fourier','Hydrodynamics','RTA'])\n",
    "plt.xlabel('Time (ns)')\n",
    "plt.ylabel('Normalized $\\Delta$T(K)')"
   ]
  },
  {
   "cell_type": "code",
   "execution_count": 9,
   "id": "1b2f8997",
   "metadata": {},
   "outputs": [],
   "source": [
    "if write_data:\n",
    "    Lstr = str(Grating_Period*1e6)\n",
    "    if is_isotope:\n",
    "        if four_phonon:\n",
    "            filename = 'TTG_'+Lstr+'um_'+'T'+str(T0)+'K_3ph-4ph.data'\n",
    "        else:\n",
    "            filename = 'TTG_'+Lstr+'um_'+'T'+str(T0)+'K_3ph.data'\n",
    "    else:\n",
    "        if four_phonon:\n",
    "            filename = 'TTG_'+Lstr+'um_'+'T'+str(T0)+'K_3ph-4ph-noiso.data'\n",
    "        else:\n",
    "            filename = 'TTG_'+Lstr+'um_'+'T'+str(T0)+'K_3ph-noiso.data'\n",
    "\n",
    "    TD_TTGSig = np.array([t_ns[t_ns<tns_cut],Tt_F[t_ns<tns_cut]/np.max(Tt_F),Tt_NU[t_ns<tns_cut]/np.max(Tt_NU),Tt_RTA[t_ns<tns_cut]/np.max(Tt_RTA)])\n",
    "    api_ph.write_2D_array(filename,TD_TTGSig,'# time(ns)  Fourier    CSA-BTE   RTA-BTE')\n",
    "    \n",
    "    FD_TTGSig = np.array([fGHz[fGHz<fGHz_cut],Tw_F[fGHz<fGHz_cut]/Tw_F[0],Tw_NU[fGHz<fGHz_cut]/Tw_NU[0],Tw_RTA[fGHz<fGHz_cut]/Tw_RTA[0]])\n",
    "    api_ph.write_2D_array('FD-'+filename,FD_TTGSig.real,'# Freq(GHz)  Fourier    CSA-BTE   RTA-BTE')"
   ]
  },
  {
   "cell_type": "code",
   "execution_count": 10,
   "id": "2af87a70",
   "metadata": {
    "scrolled": false
   },
   "outputs": [
    {
     "name": "stdout",
     "output_type": "stream",
     "text": [
      "4.0\n",
      "TTG dip depth:\n",
      "-0.16571196116228104\n"
     ]
    }
   ],
   "source": [
    "print(Grating_Period*1e6)\n",
    "print('TTG dip depth:')\n",
    "print(np.min(Tt_NU[t_ns<tns_cut]/np.max(Tt_F)))"
   ]
  }
 ],
 "metadata": {
  "kernelspec": {
   "display_name": "Python 3 (ipykernel)",
   "language": "python",
   "name": "python3"
  },
  "language_info": {
   "codemirror_mode": {
    "name": "ipython",
    "version": 3
   },
   "file_extension": ".py",
   "mimetype": "text/x-python",
   "name": "python",
   "nbconvert_exporter": "python",
   "pygments_lexer": "ipython3",
   "version": "3.9.7"
  }
 },
 "nbformat": 4,
 "nbformat_minor": 5
}
